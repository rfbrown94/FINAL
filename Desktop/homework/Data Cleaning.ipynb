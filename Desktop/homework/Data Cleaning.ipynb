{
 "metadata": {
  "name": ""
 },
 "nbformat": 3,
 "nbformat_minor": 0,
 "worksheets": [
  {
   "cells": [
    {
     "cell_type": "markdown",
     "metadata": {},
     "source": [
      "##Cleaning Data"
     ]
    },
    {
     "cell_type": "code",
     "collapsed": false,
     "input": [
      "%load_ext rmagic"
     ],
     "language": "python",
     "metadata": {},
     "outputs": [],
     "prompt_number": 1
    },
    {
     "cell_type": "code",
     "collapsed": false,
     "input": [
      "url = 'http://www.stat.berkeley.edu/classes/s133/data/movies.txt'\n",
      "!curl $url 2>/dev/null | head -4"
     ],
     "language": "python",
     "metadata": {},
     "outputs": [
      {
       "output_type": "stream",
       "stream": "stdout",
       "text": [
        "rank|name|box|date\r\n",
        "1|Avatar|$759.563|December 18, 2009\r\n",
        "2|Titanic|$600.788|December 19, 1997\r\n",
        "3|The Dark Knight|$533.184|July 18, 2008\r\n"
       ]
      }
     ],
     "prompt_number": 2
    },
    {
     "cell_type": "code",
     "collapsed": false,
     "input": [
      "%%R -i url\n",
      "\n",
      "df = read.table(url, sep='|', header=T)\n",
      "print(head(df))"
     ],
     "language": "python",
     "metadata": {},
     "outputs": [
      {
       "metadata": {},
       "output_type": "display_data",
       "text": [
        "  rank                               name      box              date\n",
        "1    1                             Avatar $759.563 December 18, 2009\n",
        "2    2                            Titanic $600.788 December 19, 1997\n",
        "3    3                    The Dark Knight $533.184     July 18, 2008\n",
        "4    4 Star Wars: Episode IV - A New Hope $460.998      May 25, 1977\n",
        "5    5                            Shrek 2 $437.212      May 19, 2004\n",
        "6    6         E.T. the Extra-Terrestrial $434.975     June 11, 1982\n"
       ]
      }
     ],
     "prompt_number": 3
    },
    {
     "cell_type": "code",
     "collapsed": false,
     "input": [
      "%%R\n",
      "\n",
      "modes = data.frame(lapply(df, class))\n",
      "print(modes)"
     ],
     "language": "python",
     "metadata": {},
     "outputs": [
      {
       "metadata": {},
       "output_type": "display_data",
       "text": [
        "     rank   name    box   date\n",
        "1 integer factor factor factor\n"
       ]
      }
     ],
     "prompt_number": 4
    },
    {
     "cell_type": "markdown",
     "metadata": {},
     "source": [
      "We see here the new class **factor** which is used by R to store catagorical variables.\n",
      "\n",
      "A <code>factor</code> object stores\n",
      "\n",
      "   * the category values as vector of integers\n",
      "   * the category names as a character vector accessible through the function levels(x)\n",
      "   \n"
     ]
    },
    {
     "cell_type": "code",
     "collapsed": false,
     "input": [
      "%%R\n",
      "\n",
      "sex = factor(c('M', 'F', 'M', 'F', 'M'))\n",
      "print(levels(sex))\n",
      "print(sex)"
     ],
     "language": "python",
     "metadata": {},
     "outputs": [
      {
       "metadata": {},
       "output_type": "display_data",
       "text": [
        "[1] \"F\" \"M\"\n",
        "[1] M F M F M\n",
        "Levels: F M\n"
       ]
      }
     ],
     "prompt_number": 5
    },
    {
     "cell_type": "markdown",
     "metadata": {},
     "source": [
      "The print function displays the category values as string, while cat displays it as integers."
     ]
    },
    {
     "cell_type": "code",
     "collapsed": false,
     "input": [
      "%%R\n",
      "\n",
      "cat(sex)"
     ],
     "language": "python",
     "metadata": {},
     "outputs": [
      {
       "metadata": {},
       "output_type": "display_data",
       "text": [
        "2 1 2 1 2"
       ]
      }
     ],
     "prompt_number": 6
    },
    {
     "cell_type": "markdown",
     "metadata": {},
     "source": [
      "As defaul the read functions interprets character columns as factors."
     ]
    },
    {
     "cell_type": "code",
     "collapsed": false,
     "input": [
      "%%R\n",
      "df = read.table(url, sep=\"|\", header=T, stringsAsFactors=F)\n",
      "print(head(df))"
     ],
     "language": "python",
     "metadata": {},
     "outputs": [
      {
       "metadata": {},
       "output_type": "display_data",
       "text": [
        "  rank                               name      box              date\n",
        "1    1                             Avatar $759.563 December 18, 2009\n",
        "2    2                            Titanic $600.788 December 19, 1997\n",
        "3    3                    The Dark Knight $533.184     July 18, 2008\n",
        "4    4 Star Wars: Episode IV - A New Hope $460.998      May 25, 1977\n",
        "5    5                            Shrek 2 $437.212      May 19, 2004\n",
        "6    6         E.T. the Extra-Terrestrial $434.975     June 11, 1982\n"
       ]
      }
     ],
     "prompt_number": 7
    },
    {
     "cell_type": "code",
     "collapsed": false,
     "input": [
      "%%R\n",
      "\n",
      "print(data.frame(lapply(df, class)))"
     ],
     "language": "python",
     "metadata": {},
     "outputs": [
      {
       "metadata": {},
       "output_type": "display_data",
       "text": [
        "     rank      name       box      date\n",
        "1 integer character character character\n"
       ]
      }
     ],
     "prompt_number": 8
    },
    {
     "cell_type": "markdown",
     "metadata": {},
     "source": [
      "###The date class"
     ]
    },
    {
     "cell_type": "markdown",
     "metadata": {},
     "source": [
      "R has a date class used to represent temporal data.\n",
      "\n",
      "One can create a date out of a date string in using the function:\n",
      "\n",
      "    as.Date(date_string, pattern)\n",
      "    \n",
      "where pattern is a string indicating how the date in datestring is formatted using the date place holders:\n",
      "    \n",
      "    %d (day)\n",
      "    %m (month in decimal)\n",
      "    %B (month in letter)\n",
      "    %b (in abreviated)\n",
      "    %y (year: two digits)\n",
      "    %Y (year: four digits)\n",
      "    "
     ]
    },
    {
     "cell_type": "code",
     "collapsed": false,
     "input": [
      "%%R\n",
      "\n",
      "a = as.Date('December 18, 2009', '%B %d, %Y')\n",
      "b = as.Date('January 29, 2013', '%B %d, %Y')\n",
      "\n",
      "print(a)"
     ],
     "language": "python",
     "metadata": {},
     "outputs": [
      {
       "metadata": {},
       "output_type": "display_data",
       "text": [
        "[1] \"2009-12-18\"\n"
       ]
      }
     ],
     "prompt_number": 9
    },
    {
     "cell_type": "code",
     "collapsed": false,
     "input": [
      "%%R\n",
      "\n",
      "df$date = as.Date(df$date, '%B %d, %Y')\n",
      "print(head(df))"
     ],
     "language": "python",
     "metadata": {},
     "outputs": [
      {
       "metadata": {},
       "output_type": "display_data",
       "text": [
        "  rank                               name      box       date\n",
        "1    1                             Avatar $759.563 2009-12-18\n",
        "2    2                            Titanic $600.788 1997-12-19\n",
        "3    3                    The Dark Knight $533.184       <NA>\n",
        "4    4 Star Wars: Episode IV - A New Hope $460.998       <NA>\n",
        "5    5                            Shrek 2 $437.212       <NA>\n",
        "6    6         E.T. the Extra-Terrestrial $434.975       <NA>\n"
       ]
      }
     ],
     "prompt_number": 10
    },
    {
     "cell_type": "markdown",
     "metadata": {},
     "source": [
      "**Pattern maching and replacement**\n",
      "\n",
      "We still need to remove the $ sign from the box column"
     ]
    },
    {
     "cell_type": "markdown",
     "metadata": {},
     "source": [
      "R provides a collection of functions to find and replace regular expressions in character vectors.\n",
      "\n",
      "Here we only need to use the function\n",
      "\n",
      "    sub(pattern, replacement, x)\n",
      "   \n",
      "R uses the set of extended regular expressions. They are the same as we already studied in Unix:\n",
      "\n",
      "**Groups:**\n",
      "\n",
      "     ( ) delimits a group of characters\n",
      "     |   means \"either the group or character on the left or on the rigth of |\"\n",
      "     \n",
      "**Ranges:**\n",
      "\n",
      "       .    means \"any character\"\n",
      "     [...]  means \"any character enclosed between the brackets\"\n",
      "     [^...] means \"any character not enclosed between the brackets\"\n",
      "\n",
      "**Modifiers:**\n",
      "\n",
      "     *      means \"the previous character or group occurs zero or many times\"\n",
      "     +      means \"the previous character or group occurs one or many times\"\n",
      "     ?      means \"the previous character or group occurs zero or one time\"\n",
      "     {n,m}  means \"the previous character or group occurs between n or m times\"\n",
      "     {n}    means \"the previous character or group occurs exactly n times\"\n",
      "     \\      escape special characters\n",
      "\n",
      "**Positions:**\n",
      "\n",
      "     ^ means \"at the beginning of the line\"\n",
      "     $ means \"at the end of the line\"\n",
      "\n",
      "In our example, we need to remove the dollar sign from the box column.\n",
      "\n",
      "Since the dollar sign has a special meaning as a regular expression, we will have to escape it:"
     ]
    },
    {
     "cell_type": "code",
     "collapsed": false,
     "input": [],
     "language": "python",
     "metadata": {},
     "outputs": [],
     "prompt_number": 10
    },
    {
     "cell_type": "code",
     "collapsed": false,
     "input": [
      "%%R\n",
      "pattern = '\\$'\n",
      "box_values = sub(\"^(.)|[^0.9]\", \"\", df$box)\n",
      "print(box_values)"
     ],
     "language": "python",
     "metadata": {},
     "outputs": [],
     "prompt_number": "*"
    }
   ],
   "metadata": {}
  }
 ]
}