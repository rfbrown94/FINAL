{
 "metadata": {
  "name": ""
 },
 "nbformat": 3,
 "nbformat_minor": 0,
 "worksheets": [
  {
   "cells": [
    {
     "cell_type": "code",
     "collapsed": false,
     "input": [
      "%load_ext rmagic"
     ],
     "language": "python",
     "metadata": {},
     "outputs": [],
     "prompt_number": 1
    },
    {
     "cell_type": "markdown",
     "metadata": {},
     "source": [
      "**Vectors** represent columns in data frame."
     ]
    },
    {
     "cell_type": "code",
     "collapsed": false,
     "input": [
      "%%R\n",
      "\n",
      "x = c(1,2,3) \n",
      "cat(mode(x), typeof(x),'\\n')\n",
      "y = c('a', 'b', 'c')\n",
      "cat(mode(y), typeof(y), '\\n')\n",
      "z = c(T,F,T)\n",
      "cat(mode(z), typeof(z), '\\n')\n"
     ],
     "language": "python",
     "metadata": {},
     "outputs": [
      {
       "metadata": {},
       "output_type": "display_data",
       "text": [
        "numeric double \n",
        "character character \n",
        "logical logical \n"
       ]
      }
     ],
     "prompt_number": 48
    },
    {
     "cell_type": "code",
     "collapsed": false,
     "input": [
      "%%R\n",
      "\n",
      "df = data.frame(x, y, z)\n",
      "print(df)"
     ],
     "language": "python",
     "metadata": {},
     "outputs": [
      {
       "metadata": {},
       "output_type": "display_data",
       "text": [
        "  x y     z\n",
        "1 1 a  TRUE\n",
        "2 2 b FALSE\n",
        "3 3 c  TRUE\n"
       ]
      }
     ],
     "prompt_number": 49
    },
    {
     "cell_type": "markdown",
     "metadata": {},
     "source": [
      "While **lists** are rows in a data frame."
     ]
    },
    {
     "cell_type": "code",
     "collapsed": false,
     "input": [
      "%%R\n",
      "\n",
      "student = list(firstname='Bob', SID='12312', Year = 'sophmore')\n",
      "print(student)"
     ],
     "language": "python",
     "metadata": {},
     "outputs": []
    },
    {
     "cell_type": "code",
     "collapsed": false,
     "input": [
      "%%R\n",
      "\n",
      "print(student$firstname)\n",
      "print(student[[1]])\n",
      "print(student[['firstname']])"
     ],
     "language": "python",
     "metadata": {},
     "outputs": [
      {
       "metadata": {},
       "output_type": "display_data",
       "text": [
        "[1] \"Bob\"\n",
        "[1] \"Bob\"\n",
        "[1] \"Bob\"\n"
       ]
      }
     ],
     "prompt_number": 31
    },
    {
     "cell_type": "markdown",
     "metadata": {},
     "source": [
      "Different ways of retrieving indicies in list."
     ]
    },
    {
     "cell_type": "code",
     "collapsed": false,
     "input": [
      "%%R\n",
      "\n",
      "print(student[1:2])\n",
      "cat(\"---------------------\", '\\n\\n')\n",
      "print(student[c('firstname', 'SID')])\n",
      "cat(\"---------------------\", '\\n\\n')\n",
      "print(student[c(1,2)])"
     ],
     "language": "python",
     "metadata": {},
     "outputs": [
      {
       "metadata": {},
       "output_type": "display_data",
       "text": [
        "$firstname\n",
        "[1] \"Bob\"\n",
        "\n",
        "$SID\n",
        "[1] \"12312\"\n",
        "\n",
        "--------------------- \n",
        "\n",
        "$firstname\n",
        "[1] \"Bob\"\n",
        "\n",
        "$SID\n",
        "[1] \"12312\"\n",
        "\n",
        "--------------------- \n",
        "\n",
        "$firstname\n",
        "[1] \"Bob\"\n",
        "\n",
        "$SID\n",
        "[1] \"12312\"\n",
        "\n"
       ]
      }
     ],
     "prompt_number": 39
    },
    {
     "cell_type": "markdown",
     "metadata": {},
     "source": [
      "Remove the third element in the list."
     ]
    },
    {
     "cell_type": "code",
     "collapsed": false,
     "input": [
      "%%R\n",
      "\n",
      "print(student[c(-3)])"
     ],
     "language": "python",
     "metadata": {},
     "outputs": [
      {
       "metadata": {},
       "output_type": "display_data",
       "text": [
        "$firstname\n",
        "[1] \"Bob\"\n",
        "\n",
        "$SID\n",
        "[1] \"12312\"\n",
        "\n"
       ]
      }
     ],
     "prompt_number": 46
    },
    {
     "cell_type": "markdown",
     "metadata": {},
     "source": [
      "Make data fram out of lists. The t command will transpose the data frame"
     ]
    },
    {
     "cell_type": "code",
     "collapsed": false,
     "input": [
      "%%R\n",
      "\n",
      "df = data.frame(student)\n",
      "print(df)\n",
      "rownames(df) = 's1'\n",
      "\n",
      "print(t(df))"
     ],
     "language": "python",
     "metadata": {},
     "outputs": [
      {
       "metadata": {},
       "output_type": "display_data",
       "text": [
        "  firstname   SID     Year\n",
        "1       Bob 12312 sophmore\n",
        "          s1        \n",
        "firstname \"Bob\"     \n",
        "SID       \"12312\"   \n",
        "Year      \"sophmore\"\n"
       ]
      }
     ],
     "prompt_number": 71
    },
    {
     "cell_type": "markdown",
     "metadata": {},
     "source": [
      "###A simple data table representation using list###"
     ]
    },
    {
     "cell_type": "code",
     "collapsed": false,
     "input": [
      "%%R\n",
      "\n",
      "f = c(Bob=62, Oscar=100, Reed=1)\n",
      "m = c(Bob=12, Oscar=100, Reed=2)\n",
      "sid = c(Bob=12313, Oscar=13123, Reed=31231)\n",
      "\n",
      "grades = list(SID=sid, midterm=m, final=f)\n",
      "print(grades)\n",
      "print(data.frame(grades))"
     ],
     "language": "python",
     "metadata": {},
     "outputs": [
      {
       "metadata": {},
       "output_type": "display_data",
       "text": [
        "$SID\n",
        "  Bob Oscar  Reed \n",
        "12313 13123 31231 \n",
        "\n",
        "$midterm\n",
        "  Bob Oscar  Reed \n",
        "   12   100     2 \n",
        "\n",
        "$final\n",
        "  Bob Oscar  Reed \n",
        "   62   100     1 \n",
        "\n",
        "        SID midterm final\n",
        "Bob   12313      12    62\n",
        "Oscar 13123     100   100\n",
        "Reed  31231       2     1\n"
       ]
      }
     ],
     "prompt_number": 74
    },
    {
     "cell_type": "markdown",
     "metadata": {},
     "source": [
      "Since list elements are vectors, one can compute with them in a vectorized way. Lets add a TotalGrade element to the list."
     ]
    },
    {
     "cell_type": "code",
     "collapsed": false,
     "input": [
      "%%R\n",
      "\n",
      "TG = 0.6*grades$final + 0.4*grades$midterm\n",
      "grades$TG = TG\n",
      "print(grades)"
     ],
     "language": "python",
     "metadata": {},
     "outputs": [
      {
       "metadata": {},
       "output_type": "display_data",
       "text": [
        "$SID\n",
        "  Bob Oscar  Reed \n",
        "12313 13123 31231 \n",
        "\n",
        "$midterm\n",
        "  Bob Oscar  Reed \n",
        "   12   100     2 \n",
        "\n",
        "$final\n",
        "  Bob Oscar  Reed \n",
        "   62   100     1 \n",
        "\n",
        "$TG\n",
        "  Bob Oscar  Reed \n",
        " 42.0 100.0   1.4 \n",
        "\n"
       ]
      }
     ],
     "prompt_number": 75
    },
    {
     "cell_type": "markdown",
     "metadata": {},
     "source": [
      "One can think of lists ass class instances or objects in Python. Namely, onve can think of the **column labels** in a data table as the various **attributes** defining a class. In this way of thinking, the actual **data table rows** correspond to the **actual class instances**, or **objects**.\n",
      "\n",
      "In the previous example, the list <code> student </code>, representing a data table row, encapsulate three **variables**, or better three **attributes** representing the class student: Namely,\n",
      "       \n",
      "    name, SID, Year \n",
      "       \n",
      "To summarize, we have:\n",
      "\n",
      "   * list elements = class attributes\n",
      "       \n",
      "R supports this interpretation of list elements as class attributes, where there is a function\n",
      "\n",
      "    attributes(x)\n",
      "     \n",
      "that takes in a list x and returns the nams of the list's attributes "
     ]
    },
    {
     "cell_type": "code",
     "collapsed": false,
     "input": [
      "%%R\n",
      "\n",
      "print(class(student))\n",
      "print(attributes(student)) #equal to names(x)"
     ],
     "language": "python",
     "metadata": {},
     "outputs": [
      {
       "metadata": {},
       "output_type": "display_data",
       "text": [
        "[1] \"list\"\n",
        "$names\n",
        "[1] \"firstname\" \"SID\"       \"Year\"     \n",
        "\n",
        "NULL\n"
       ]
      }
     ],
     "prompt_number": 78
    },
    {
     "cell_type": "markdown",
     "metadata": {},
     "source": [
      "to access the class attributes one use $-sign instead of the . (dot) notation."
     ]
    },
    {
     "cell_type": "markdown",
     "metadata": {},
     "source": [
      "We now want to define our class<code> Student</code>."
     ]
    },
    {
     "cell_type": "code",
     "collapsed": false,
     "input": [
      "%%R\n",
      "\n",
      "class(student) = 'Student'\n",
      "print(class(student))"
     ],
     "language": "python",
     "metadata": {},
     "outputs": [
      {
       "metadata": {},
       "output_type": "display_data",
       "text": [
        "[1] \"Student\"\n"
       ]
      }
     ],
     "prompt_number": 79
    },
    {
     "cell_type": "markdown",
     "metadata": {},
     "source": [
      "To emulate Python classes, we are still lacking a few things. One of them is the notion of a constructor, that is a function that will construct objects of our class from the values we pass to it as arguement."
     ]
    },
    {
     "cell_type": "code",
     "collapsed": false,
     "input": [
      "%%R\n",
      "\n",
      "Student = function(firstname, SID, Year){\n",
      "    student = list(firstname=firstname, SID=SID, Year=Year)\n",
      "    class(student) = 'Student'\n",
      "    return(student)\n",
      "    }\n",
      "\n",
      "Bob = Student('Bob', '123123', 'Freshman')\n",
      "\n",
      "print(attributes(Bob))\n",
      "                                         "
     ],
     "language": "python",
     "metadata": {},
     "outputs": [
      {
       "metadata": {},
       "output_type": "display_data",
       "text": [
        "$names\n",
        "[1] \"firstname\" \"SID\"       \"Year\"     \n",
        "\n",
        "$class\n",
        "[1] \"Student\"\n",
        "\n"
       ]
      }
     ],
     "prompt_number": 80
    },
    {
     "cell_type": "markdown",
     "metadata": {},
     "source": [
      "Now we just miss the class **methods**."
     ]
    },
    {
     "cell_type": "code",
     "collapsed": false,
     "input": [
      "%%R\n",
      "\n",
      "display.Student = function(student){\n",
      "    for (attr in names(student)){\n",
      "        display_str = sprintf(\"%10s: %s\\n\", attr, student[[attr]])\n",
      "        cat(display_str)\n",
      "        }\n",
      "    }\n",
      "\n",
      "display.Student(Bob)\n",
      "                                    "
     ],
     "language": "python",
     "metadata": {},
     "outputs": [
      {
       "metadata": {},
       "output_type": "display_data",
       "text": [
        " firstname: Bob\n",
        "       SID: 123123\n",
        "      Year: Freshman\n"
       ]
      }
     ],
     "prompt_number": 89
    },
    {
     "cell_type": "markdown",
     "metadata": {},
     "source": [
      "So far, the naming convention for methods is just a good practice for book keeping. In R, methods starts to become interresant in R when used in conjunction with generic functions.\n",
      "\n",
      "A **generic function**, like print is a function that, if applied to an object of a certain class, will lookup to find a corresponding class method named using the convention we outlined above.\n",
      "\n",
      "For example,\n",
      "\n",
      "    print(student)\n",
      "    \n",
      "will search for a method named\n",
      "\n",
      "    print.Student(x)\n",
      "    \n",
      "defined for our class, and invoke this method if found. If not, print will invoke the method of the class list and print the list underlying our Student object.\n",
      "\n",
      "To see what classes implement a method for a generic function, you can use the following command:"
     ]
    },
    {
     "cell_type": "code",
     "collapsed": false,
     "input": [
      "%%R\n",
      "\n",
      "print(head(methods(print)))"
     ],
     "language": "python",
     "metadata": {},
     "outputs": [
      {
       "metadata": {},
       "output_type": "display_data",
       "text": [
        "[1] \"print.acf\"     \"print.anova\"   \"print.aov\"     \"print.aovlist\"\n",
        "[5] \"print.ar\"      \"print.Arima\"  \n"
       ]
      }
     ],
     "prompt_number": 91
    },
    {
     "cell_type": "markdown",
     "metadata": {},
     "source": [
      "Right now our function is doing this when we use print:"
     ]
    },
    {
     "cell_type": "code",
     "collapsed": false,
     "input": [
      "%%R\n",
      "\n",
      "print(student)"
     ],
     "language": "python",
     "metadata": {},
     "outputs": [
      {
       "metadata": {},
       "output_type": "display_data",
       "text": [
        "$firstname\n",
        "[1] \"Bob\"\n",
        "\n",
        "$SID\n",
        "[1] \"12312\"\n",
        "\n",
        "$Year\n",
        "[1] \"sophmore\"\n",
        "\n",
        "attr(,\"class\")\n",
        "[1] \"Student\"\n"
       ]
      }
     ],
     "prompt_number": 92
    },
    {
     "cell_type": "markdown",
     "metadata": {},
     "source": [
      "But we would like it to print as out display method."
     ]
    },
    {
     "cell_type": "code",
     "collapsed": false,
     "input": [
      "%%R\n",
      "\n",
      "print.Student = function(student){\n",
      "    display.Student(student)\n",
      "    }\n",
      "print(student)"
     ],
     "language": "python",
     "metadata": {},
     "outputs": [
      {
       "metadata": {},
       "output_type": "display_data",
       "text": [
        " firstname: Bob\n",
        "       SID: 12312\n",
        "      Year: sophmore\n"
       ]
      }
     ],
     "prompt_number": 93
    },
    {
     "cell_type": "markdown",
     "metadata": {},
     "source": [
      "Great! Now what if we whant to **promote our method**\n",
      "\n",
      "    display.Student(x)\n",
      "    \n",
      "to a generic function?\n",
      "\n",
      "We simply need to write a function\n",
      "\n",
      "    display(x)\n",
      "    \n",
      "that will invoke the special function\n",
      "\n",
      "    UseMethod(name, x)\n",
      "    \n",
      "This function will\n",
      "\n",
      "   * lookup the class of the object x\n",
      "   * lookup for a method with name name implemented for this class\n",
      "   * pass the object x as argument to this method\n"
     ]
    },
    {
     "cell_type": "code",
     "collapsed": false,
     "input": [
      "%%R\n",
      "\n",
      "display = function(object){\n",
      "    UseMethod('display', object)\n",
      "    }\n",
      "\n",
      "display(student)\n",
      "print(methods(display))"
     ],
     "language": "python",
     "metadata": {},
     "outputs": [
      {
       "metadata": {},
       "output_type": "display_data",
       "text": [
        " firstname: Bob\n",
        "       SID: 12312\n",
        "      Year: sophmore\n",
        "[1] display.Student\n"
       ]
      }
     ],
     "prompt_number": 95
    },
    {
     "cell_type": "markdown",
     "metadata": {},
     "source": [
      "***EX***\n",
      "\n",
      "Write a class employee with attributes\n",
      "\n",
      "    name\n",
      "    employer\n",
      "    job title\n",
      "    hourly rate\n",
      "    number of hours worked per month\n",
      "    \n",
      "and generic functions\n",
      "\n",
      "    print\n",
      "    salary"
     ]
    },
    {
     "cell_type": "code",
     "collapsed": false,
     "input": [
      "%%R\n",
      "\n",
      "employee = function(name, employer, jobtitle, hrate, hnumber){\n",
      "    employee = list(name=name, employer=employer, jobtitle=jobtitle, hrate=hrate, hnumber=hnumber)\n",
      "    class(employee) = 'employee'\n",
      "    return(employee)\n",
      "    }\n",
      "\n",
      "Bob = employee('Bob', 'ABGSC', 'Equity Analysis', 100, 65)\n",
      "print(Bob)"
     ],
     "language": "python",
     "metadata": {},
     "outputs": [
      {
       "metadata": {},
       "output_type": "display_data",
       "text": [
        "$name\n",
        "[1] \"Bob\"\n",
        "\n",
        "$employer\n",
        "[1] \"ABGSC\"\n",
        "\n",
        "$jobtitle\n",
        "[1] \"Equity Analysis\"\n",
        "\n",
        "$hrate\n",
        "[1] 100\n",
        "\n",
        "$hnumber\n",
        "[1] 65\n",
        "\n",
        "attr(,\"class\")\n",
        "[1] \"employee\"\n"
       ]
      }
     ],
     "prompt_number": 96
    },
    {
     "cell_type": "code",
     "collapsed": false,
     "input": [
      "%%R\n",
      "\n",
      "print.employee = function(employee){\n",
      "    for (attr in names(employee)){\n",
      "        con_str = sprintf(\"%10s: %s\\n\", attr, employee[[attr]])\n",
      "        cat(con_str)\n",
      "        }\n",
      "    }\n",
      "\n",
      "print(Bob)"
     ],
     "language": "python",
     "metadata": {},
     "outputs": [
      {
       "metadata": {},
       "output_type": "display_data",
       "text": [
        "      name: Bob\n",
        "  employer: ABGSC\n",
        "  jobtitle: Equity Analysis\n",
        "     hrate: 100\n",
        "   hnumber: 65\n"
       ]
      }
     ],
     "prompt_number": 97
    },
    {
     "cell_type": "code",
     "collapsed": false,
     "input": [
      "%%R\n",
      "\n",
      "salary.employee = function(employee){\n",
      "    return(employee$hrate * employee$hnumber)\n",
      "    }\n",
      "salary = function(object){\n",
      "    UseMethod('salary', object)\n",
      "    }\n",
      "\n",
      "print(salary(Bob))\n",
      "Bob$salary = salary(Bob)\n",
      "print(Bob)"
     ],
     "language": "python",
     "metadata": {},
     "outputs": [
      {
       "metadata": {},
       "output_type": "display_data",
       "text": [
        "[1] 6500\n",
        "      name: Bob\n",
        "  employer: ABGSC\n",
        "  jobtitle: Equity Analysis\n",
        "     hrate: 100\n",
        "   hnumber: 65\n",
        "    salary: 6500\n"
       ]
      }
     ],
     "prompt_number": 102
    }
   ],
   "metadata": {}
  }
 ]
}