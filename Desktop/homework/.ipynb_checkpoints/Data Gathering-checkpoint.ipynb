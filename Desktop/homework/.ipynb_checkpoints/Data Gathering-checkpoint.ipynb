{
 "metadata": {
  "name": ""
 },
 "nbformat": 3,
 "nbformat_minor": 0,
 "worksheets": [
  {
   "cells": [
    {
     "cell_type": "code",
     "collapsed": false,
     "input": [
      "%load_ext rmagic"
     ],
     "language": "python",
     "metadata": {},
     "outputs": [],
     "prompt_number": 2
    },
    {
     "cell_type": "markdown",
     "metadata": {},
     "source": [
      "##File and directory manipulations##\n",
      "\n",
      "R offers a bunch of functions to\n",
      "\n",
      "   * **list the files and directories:**\n",
      "\n",
      "            list.files(path = \".\")    \n",
      "            list.dirs(path = \".\")\n",
      "    \n",
      "    \n",
      "   * **create and modify files:**\n",
      "\n",
      "            file.create(path1, path2, etc.)\n",
      "            file.remove(path1, path2, etc.)\n",
      "        \n",
      "        \n",
      "   * **create directories:**\n",
      "\n",
      "            dir.create(path)\n",
      "        \n",
      "        \n",
      "   * **navigate the file system:**\n",
      "\n",
      "            getwd()\n",
      "            setwd(dir)"
     ]
    },
    {
     "cell_type": "markdown",
     "metadata": {},
     "source": [
      "##Downloading files from the web##"
     ]
    },
    {
     "cell_type": "markdown",
     "metadata": {},
     "source": [
      "To download a file from the internet in R and store it on the local file system one uses the function:\n",
      "        \n",
      "        download.file(fileUrl, destfile, method=\"curl\")\n",
      "        \n",
      "**Example**: The link\n",
      "    \n",
      "   https://data.baltimorecity.gov/Transportation/Baltimore-Fixed-Speed-Cameras/dz54-2aru \n",
      "    \n",
      "is to Baltimore city which has an API to download data in json, csv, xml and xls."
     ]
    },
    {
     "cell_type": "code",
     "collapsed": false,
     "input": [
      "%%R\n",
      "\n",
      "csv_url = 'https://data.baltimorecity.gov/api/views/dz54-2aru/rows.csv?accessType=DOWNLOAD'\n",
      "\n",
      "xml_url = 'https://data.baltimorecity.gov/api/views/dz54-2aru/rows.xml?accessType=DOWNLOAD'\n",
      "\n",
      "json_url = 'https://data.baltimorecity.gov/api/views/dz54-2aru/rows.json?accessType=DOWNLOAD'\n",
      "\n",
      "xls_url = 'https://data.baltimorecity.gov/api/views/dz54-2aru/rows.xls?accessType=DOWNLOAD'\n",
      "\n"
     ],
     "language": "python",
     "metadata": {},
     "outputs": [],
     "prompt_number": 11
    },
    {
     "cell_type": "markdown",
     "metadata": {},
     "source": [
      "Let us prepare prepare the names of the files in which we will store the data:"
     ]
    },
    {
     "cell_type": "code",
     "collapsed": false,
     "input": [
      "%%R\n",
      "\n",
      "data_dir    = './data'\n",
      "raw_dir     = paste(data_dir, '/raw', sep='')\n",
      "cleaned_dir = paste(data_dir, '/cleaned', sep='')\n",
      "\n",
      "dir.create(data_dir)\n",
      "dir.create(raw_dir)\n",
      "dir.create(cleaned_dir)"
     ],
     "language": "python",
     "metadata": {},
     "outputs": [],
     "prompt_number": 4
    },
    {
     "cell_type": "code",
     "collapsed": false,
     "input": [],
     "language": "python",
     "metadata": {},
     "outputs": []
    },
    {
     "cell_type": "code",
     "collapsed": false,
     "input": [
      "%%R\n",
      "\n",
      "date = paste(strsplit(date(), split=' ')[[1]], collapse='_')\n",
      "print(date)\n",
      "\n",
      "csv_file = paste(raw_dir, '/cameras_', date, '.csv', sep=\"\")\n",
      "xml_file = paste(raw_dir, '/cameras_', date, '.xml', sep=\"\")\n",
      "json_file = paste(raw_dir, '/cameras_', date, '.json', sep=\"\")\n",
      "\n",
      "print(c(csv_file, xml_file, json_file))"
     ],
     "language": "python",
     "metadata": {},
     "outputs": [
      {
       "metadata": {},
       "output_type": "display_data",
       "text": [
        "[1] \"Fri_May__2_04:00:41_2014\"\n",
        "[1] \"./data/raw/cameras_Fri_May__2_04:00:41_2014.csv\" \n",
        "[2] \"./data/raw/cameras_Fri_May__2_04:00:41_2014.xml\" \n",
        "[3] \"./data/raw/cameras_Fri_May__2_04:00:41_2014.json\"\n"
       ]
      }
     ],
     "prompt_number": 14
    },
    {
     "cell_type": "markdown",
     "metadata": {},
     "source": [
      "Download the files:"
     ]
    },
    {
     "cell_type": "code",
     "collapsed": false,
     "input": [
      "%%R\n",
      "\n",
      "download.file(csv_url, destfile=csv_file, method='curl')\n",
      "download.file(xml_url, destfile=xml_file, method='curl')\n",
      "download.file(json_file, destfile=json_file, method='curl')\n"
     ],
     "language": "python",
     "metadata": {},
     "outputs": [],
     "prompt_number": 15
    },
    {
     "cell_type": "code",
     "collapsed": false,
     "input": [
      "%%R\n",
      "\n",
      "print(list.files(raw_dir))"
     ],
     "language": "python",
     "metadata": {},
     "outputs": [
      {
       "metadata": {},
       "output_type": "display_data",
       "text": [
        "[1] \"cameras_Fri_May__2_04:00:41_2014.csv\"\n",
        "[2] \"cameras_Fri_May__2_04:00:41_2014.xml\"\n"
       ]
      }
     ],
     "prompt_number": 22
    },
    {
     "cell_type": "markdown",
     "metadata": {},
     "source": [
      "##Load data"
     ]
    },
    {
     "cell_type": "markdown",
     "metadata": {},
     "source": [
      "Use the function:\n",
      "\n",
      "    read.table(file, sep, header(T,F))"
     ]
    },
    {
     "cell_type": "code",
     "collapsed": false,
     "input": [
      "%%R\n",
      "\n",
      "df = read.table(csv_file, sep=',', header=T)\n",
      "print(head(df))"
     ],
     "language": "python",
     "metadata": {},
     "outputs": [
      {
       "metadata": {},
       "output_type": "display_data",
       "text": [
        "                         address direction      street  crossStreet\n",
        "1       S CATON AVE & BENSON AVE       N/B   Caton Ave   Benson Ave\n",
        "2       S CATON AVE & BENSON AVE       S/B   Caton Ave   Benson Ave\n",
        "3 WILKENS AVE & PINE HEIGHTS AVE       E/B Wilkens Ave Pine Heights\n",
        "4        THE ALAMEDA & E 33RD ST       S/B The Alameda      33rd St\n",
        "5        E 33RD ST & THE ALAMEDA       E/B      E 33rd  The Alameda\n",
        "6        ERDMAN AVE & N MACON ST       E/B      Erdman     Macon St\n",
        "                intersection                      Location.1\n",
        "1     Caton Ave & Benson Ave (39.2693779962, -76.6688185297)\n",
        "2     Caton Ave & Benson Ave (39.2693157898, -76.6689698176)\n",
        "3 Wilkens Ave & Pine Heights  (39.2720252302, -76.676960806)\n",
        "4     The Alameda  & 33rd St (39.3285013141, -76.5953545714)\n",
        "5      E 33rd  & The Alameda (39.3283410623, -76.5953594625)\n",
        "6         Erdman  & Macon St (39.3068045671, -76.5593167803)\n"
       ]
      }
     ],
     "prompt_number": 23
    },
    {
     "cell_type": "markdown",
     "metadata": {},
     "source": [
      "##A digression on lists: the double bracket operator\n",
      "\n",
      "As we saw, the **single bracket operator** \n",
      "     \n",
      "     list[range]\n",
      "     \n",
      "allows us to retrive a sublist corresponding to the range.\n",
      "\n",
      "In case, the range is single index then\n",
      "\n",
      "    list[i]\n",
      "    \n",
      "is a **sublist with one element**, namely the element at position i.\n",
      "\n"
     ]
    },
    {
     "cell_type": "code",
     "collapsed": false,
     "input": [
      "%%R\n",
      "\n",
      "element1 = c('a','b','c')\n",
      "element2 = c(1,2)\n",
      "\n",
      "my_list = list(element1, element2)\n",
      "x = my_list[1]\n",
      "print(my_list)\n",
      "print(x)\n"
     ],
     "language": "python",
     "metadata": {},
     "outputs": [
      {
       "metadata": {},
       "output_type": "display_data",
       "text": [
        "[[1]]\n",
        "[1] \"a\" \"b\" \"c\"\n",
        "\n",
        "[[2]]\n",
        "[1] 1 2\n",
        "\n",
        "[[1]]\n",
        "[1] \"a\" \"b\" \"c\"\n",
        "\n"
       ]
      }
     ],
     "prompt_number": 25
    },
    {
     "cell_type": "markdown",
     "metadata": {},
     "source": [
      "To retrieve the actual list element at a given position i, one needs to use the double brakcet notation\n",
      "\n",
      "    list[[i]]\n",
      "    \n",
      "This is also valid when one uses element labels instead of position indices:\n",
      "\n",
      "    list[['label']] # retrieves the actual list element\n",
      "    list['label'] #yields back a list containing the list element\n",
      "    \n"
     ]
    },
    {
     "cell_type": "code",
     "collapsed": false,
     "input": [
      "%%R\n",
      "\n",
      "x = list(names=c('Bob', 'Luc', 'Paul'), grades=c(45, 76, 12))\n",
      "print(x)\n",
      "cat('...................\\n')\n",
      "print(x['names'])\n",
      "cat('...................\\n')\n",
      "print(x[['names']])\n"
     ],
     "language": "python",
     "metadata": {},
     "outputs": [
      {
       "metadata": {},
       "output_type": "display_data",
       "text": [
        "$names\n",
        "[1] \"Bob\"  \"Luc\"  \"Paul\"\n",
        "\n",
        "$grades\n",
        "[1] 45 76 12\n",
        "\n",
        "...................\n",
        "$names\n",
        "[1] \"Bob\"  \"Luc\"  \"Paul\"\n",
        "\n",
        "...................\n",
        "[1] \"Bob\"  \"Luc\"  \"Paul\"\n"
       ]
      }
     ],
     "prompt_number": 29
    },
    {
     "cell_type": "markdown",
     "metadata": {},
     "source": [
      "###lapply and sapply###\n",
      "\n",
      "Given a **function** f and a **list**\n",
      "\n",
      "                       x = (x1, x2,..., xn)\n",
      "                       \n",
      "the **list apply** function:\n",
      "\n",
      "    lapply(x, f)\n",
      "    \n",
      "will return the **list**\n",
      "\n",
      "                       (f(x1), f(x2),...f(xn))\n",
      "                       \n",
      "            "
     ]
    },
    {
     "cell_type": "code",
     "collapsed": false,
     "input": [
      "%%R\n",
      "\n",
      "f = function(x) return(c(mean=mean(x), sd=sd(x)))\n",
      "\n",
      "var1 = c(1,2,3,4,5,6,7,8,9)\n",
      "var2 = c(18, 34, 2)\n",
      "\n",
      "x = list(V1=var1, V2=var2)\n",
      "\n",
      "y = lapply(x, f)\n",
      "    \n",
      "print(x)\n",
      "print(y)\n",
      "    "
     ],
     "language": "python",
     "metadata": {},
     "outputs": [
      {
       "metadata": {},
       "output_type": "display_data",
       "text": [
        "$V1\n",
        "[1] 1 2 3 4 5 6 7 8 9\n",
        "\n",
        "$V2\n",
        "[1] 18 34  2\n",
        "\n",
        "$V1\n",
        "    mean       sd \n",
        "5.000000 2.738613 \n",
        "\n",
        "$V2\n",
        "mean   sd \n",
        "  18   16 \n",
        "\n"
       ]
      }
     ],
     "prompt_number": 31
    },
    {
     "cell_type": "markdown",
     "metadata": {},
     "source": [
      "Now suppose the function f returns a single number from a numeric vector:"
     ]
    },
    {
     "cell_type": "code",
     "collapsed": false,
     "input": [
      "%%R\n",
      "\n",
      "f = function(x){\n",
      "    return(mean=mean(x))\n",
      "}\n",
      "\n",
      "y = lapply(x, f)\n",
      "\n",
      "print(y)"
     ],
     "language": "python",
     "metadata": {},
     "outputs": [
      {
       "metadata": {},
       "output_type": "display_data",
       "text": [
        "$V1\n",
        "[1] 5\n",
        "\n",
        "$V2\n",
        "[1] 18\n",
        "\n"
       ]
      }
     ],
     "prompt_number": 33
    },
    {
     "cell_type": "markdown",
     "metadata": {},
     "source": [
      "n this case, it makes sense that the output of lapply would rather be a numeric vector rather than a list of numeric vectors with one element each.\n",
      "\n",
      "For that purpose, one has the simplify apply function\n",
      "\n",
      "        sapply(x, f, args)\n",
      "\n",
      "that will try to simplify the output into a vector of the proper type.\n",
      "\n",
      "**Remark**: The last argument args can be omitted, but it can also be used to pass additional parameters to the function f, if needed."
     ]
    },
    {
     "cell_type": "code",
     "collapsed": false,
     "input": [
      "%%R\n",
      "\n",
      "y = sapply(x, f)\n",
      "print(y)\n",
      "print(class(y))"
     ],
     "language": "python",
     "metadata": {},
     "outputs": [
      {
       "metadata": {},
       "output_type": "display_data",
       "text": [
        "V1 V2 \n",
        " 5 18 \n",
        "[1] \"numeric\"\n"
       ]
      }
     ],
     "prompt_number": 38
    },
    {
     "cell_type": "markdown",
     "metadata": {},
     "source": [
      "##XML file"
     ]
    },
    {
     "cell_type": "code",
     "collapsed": false,
     "input": [
      "%%file dstat133.xml\n",
      "<?xml version=\"1.0\" encoding=\"ISO-8859-1\"?>  \n",
      "\n",
      "\n",
      "<stat133 name='Computing with Data' department='STAT'>\n",
      "        \n",
      "    <student sid='1232243'>\n",
      "        <name>Bob Durant</name>\n",
      "        <midterm>55</midterm>\n",
      "        <final>88</final>\n",
      "        <homework>99</homework>\n",
      "        <section>1</section>\n",
      "        <major>STAT</major>\n",
      "    </student>\n",
      "    \n",
      "    <student sid='3213453'>\n",
      "        <name>Agnes Thomas</name>\n",
      "        <midterm>99</midterm>\n",
      "        <final>90</final>\n",
      "        <homework>99</homework>\n",
      "        <section>2</section>\n",
      "        <major>ECON</major>\n",
      "    </student>\n",
      "    \n",
      "</stat133>"
     ],
     "language": "python",
     "metadata": {},
     "outputs": [
      {
       "output_type": "stream",
       "stream": "stdout",
       "text": [
        "Writing dstat133.xml\n"
       ]
      }
     ],
     "prompt_number": 47
    },
    {
     "cell_type": "code",
     "collapsed": false,
     "input": [
      "%%R\n",
      "\n",
      "library(XML)"
     ],
     "language": "python",
     "metadata": {},
     "outputs": [
      {
       "metadata": {},
       "output_type": "display_data",
       "text": [
        "\n",
        "Attaching package: \u2018XML\u2019\n",
        "\n",
        "The following object is masked from \u2018package:tools\u2019:\n",
        "\n",
        "    toHTML\n",
        "\n"
       ]
      }
     ],
     "prompt_number": 42
    },
    {
     "cell_type": "code",
     "collapsed": false,
     "input": [
      "%%R\n",
      "\n",
      "xml_doc = xmlParse('dstat133.xml')\n"
     ],
     "language": "python",
     "metadata": {},
     "outputs": [],
     "prompt_number": 48
    },
    {
     "cell_type": "code",
     "collapsed": false,
     "input": [
      "%%R\n",
      "\n",
      "stat133_node = xmlRoot(xml_doc)\n",
      "print(stat133_node)"
     ],
     "language": "python",
     "metadata": {},
     "outputs": [
      {
       "metadata": {},
       "output_type": "display_data",
       "text": [
        "<stat133 name=\"Computing with Data\" department=\"STAT\">\n",
        "  <student sid=\"1232243\">\n",
        "    <name>Bob Durant</name>\n",
        "    <midterm>55</midterm>\n",
        "    <final>88</final>\n",
        "    <homework>99</homework>\n",
        "    <section>1</section>\n",
        "    <major>STAT</major>\n",
        "  </student>\n",
        "  <student sid=\"3213453\">\n",
        "    <name>Agnes Thomas</name>\n",
        "    <midterm>99</midterm>\n",
        "    <final>90</final>\n",
        "    <homework>99</homework>\n",
        "    <section>2</section>\n",
        "    <major>ECON</major>\n",
        "  </student>\n",
        "</stat133> \n"
       ]
      }
     ],
     "prompt_number": 52
    },
    {
     "cell_type": "code",
     "collapsed": false,
     "input": [
      "%%R\n",
      "\n",
      "students = xmlChildren(stat133_node)\n",
      "\n",
      "print(students)"
     ],
     "language": "python",
     "metadata": {},
     "outputs": [
      {
       "metadata": {},
       "output_type": "display_data",
       "text": [
        "$student\n",
        "<student sid=\"1232243\">\n",
        "  <name>Bob Durant</name>\n",
        "  <midterm>55</midterm>\n",
        "  <final>88</final>\n",
        "  <homework>99</homework>\n",
        "  <section>1</section>\n",
        "  <major>STAT</major>\n",
        "</student> \n",
        "\n",
        "$student\n",
        "<student sid=\"3213453\">\n",
        "  <name>Agnes Thomas</name>\n",
        "  <midterm>99</midterm>\n",
        "  <final>90</final>\n",
        "  <homework>99</homework>\n",
        "  <section>2</section>\n",
        "  <major>ECON</major>\n",
        "</student> \n",
        "\n",
        "attr(,\"class\")\n",
        "[1] \"XMLInternalNodeList\" \"XMLNodeList\"        \n"
       ]
      }
     ],
     "prompt_number": 56
    },
    {
     "cell_type": "code",
     "collapsed": false,
     "input": [
      "%%R\n",
      "\n",
      "f = function(x, attr){\n",
      "    return(xmlValue(x[[attr]]))\n",
      "}\n",
      "\n",
      "name = f(students[[1]], 'name')\n",
      "print(name)\n",
      "           "
     ],
     "language": "python",
     "metadata": {},
     "outputs": [
      {
       "metadata": {},
       "output_type": "display_data",
       "text": [
        "[1] \"Bob Durant\"\n"
       ]
      }
     ],
     "prompt_number": 63
    },
    {
     "cell_type": "code",
     "collapsed": false,
     "input": [
      "%%R \n",
      "\n",
      "names = sapply(students,f , 'name')\n",
      "print(names)\n"
     ],
     "language": "python",
     "metadata": {},
     "outputs": [
      {
       "metadata": {},
       "output_type": "display_data",
       "text": [
        "       student        student \n",
        "  \"Bob Durant\" \"Agnes Thomas\" \n"
       ]
      }
     ],
     "prompt_number": 66
    },
    {
     "cell_type": "code",
     "collapsed": false,
     "input": [
      "%%R\n",
      "\n",
      "g = function(attr, node){\n",
      "    return(sapply(node, f, attr))\n",
      "    }\n",
      "print(g('midterm', students))"
     ],
     "language": "python",
     "metadata": {},
     "outputs": [
      {
       "metadata": {},
       "output_type": "display_data",
       "text": [
        "student student \n",
        "   \"55\"    \"99\" \n"
       ]
      }
     ],
     "prompt_number": 75
    },
    {
     "cell_type": "code",
     "collapsed": false,
     "input": [
      "%%R\n",
      "\n",
      "attr_names = names(students[[1]])\n",
      "print(attr_names)"
     ],
     "language": "python",
     "metadata": {},
     "outputs": [
      {
       "metadata": {},
       "output_type": "display_data",
       "text": [
        "      name    midterm      final   homework    section      major \n",
        "    \"name\"  \"midterm\"    \"final\" \"homework\"  \"section\"    \"major\" \n"
       ]
      }
     ],
     "prompt_number": 76
    },
    {
     "cell_type": "code",
     "collapsed": false,
     "input": [
      "%%R\n",
      "\n",
      "data = lapply(students,g, attr_names))\n",
      "print(data)\n"
     ],
     "language": "python",
     "metadata": {},
     "outputs": [
      {
       "output_type": "stream",
       "stream": "stdout",
       "text": [
        "\n",
        "Error while parsing the string.\n"
       ]
      }
     ],
     "prompt_number": 82
    }
   ],
   "metadata": {}
  }
 ]
}