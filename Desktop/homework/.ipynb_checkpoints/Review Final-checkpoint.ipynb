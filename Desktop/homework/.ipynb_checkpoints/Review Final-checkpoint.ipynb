{
 "metadata": {
  "name": ""
 },
 "nbformat": 3,
 "nbformat_minor": 0,
 "worksheets": [
  {
   "cells": [
    {
     "cell_type": "code",
     "collapsed": false,
     "input": [
      "%load_ext rmagic"
     ],
     "language": "python",
     "metadata": {},
     "outputs": [],
     "prompt_number": 2
    },
    {
     "cell_type": "code",
     "collapsed": false,
     "input": [
      "%%R\n",
      "\n",
      "x = seq(3, 6, by=0.1)\n",
      "y = exp(x)*cos(x)\n",
      "print(y)"
     ],
     "language": "python",
     "metadata": {},
     "outputs": [
      {
       "metadata": {},
       "output_type": "display_data",
       "text": [
        " [1] -19.884531 -22.178753 -24.490697 -26.773182 -28.969238 -31.011186\n",
        " [7] -32.819775 -34.303360 -35.357194 -35.862834 -35.687732 -34.685042\n",
        "[13] -32.693695 -29.538816 -25.032529 -18.975233 -11.157417  -1.362099\n",
        "[19]  10.632038  25.046705  42.099201  61.996630  84.929067 111.061586\n",
        "[25] 140.525075 173.405776 209.733494 249.468441 292.486707 338.564378\n",
        "[31] 387.360340\n"
       ]
      }
     ],
     "prompt_number": 3
    },
    {
     "cell_type": "code",
     "collapsed": false,
     "input": [
      "%%R\n",
      "\n",
      "i = 1:200\n",
      "x = rep(0.5, 200)^i\n",
      "\n",
      "y = sum(exp(-x[-1])/(x[1:199] + 10))\n",
      "print(y)\n"
     ],
     "language": "python",
     "metadata": {},
     "outputs": [
      {
       "metadata": {},
       "output_type": "display_data",
       "text": [
        "[1] 19.84565\n"
       ]
      }
     ],
     "prompt_number": 6
    },
    {
     "cell_type": "markdown",
     "metadata": {},
     "source": [
      "##Part II: Writting and Using Classes##\n"
     ]
    },
    {
     "cell_type": "code",
     "collapsed": false,
     "input": [
      "%%R\n",
      "\n",
      "contact = function(name, phone, email, age){\n",
      "    obj = list(Name=name, Phone=phone, Email=email, Age=age)\n",
      "    class(obj) = 'contact'\n",
      "    return(obj)\n",
      "    }\n",
      "\n"
     ],
     "language": "python",
     "metadata": {},
     "outputs": [],
     "prompt_number": 8
    },
    {
     "cell_type": "code",
     "collapsed": false,
     "input": [
      "%%R\n",
      "\n",
      "bob = contact('Bob Duran', '324 5342', '234@ljlj.com', 12)\n",
      "paul = contact('Paul Duran', '324 5342', '234@ljlj.com', 12)\n",
      "jane = contact('Jane Duran', '324 5342', '234@ljlj.com', 12)\n",
      "\n",
      "print(bob$Phone)\n",
      "print(class(bob))"
     ],
     "language": "python",
     "metadata": {},
     "outputs": [
      {
       "metadata": {},
       "output_type": "display_data",
       "text": [
        "[1] \"324 5342\"\n",
        "[1] \"contact\"\n"
       ]
      }
     ],
     "prompt_number": 9
    },
    {
     "cell_type": "code",
     "collapsed": false,
     "input": [
      "%%R\n",
      "\n",
      "addressBook = function(owner, contacts=list()){\n",
      "    obj = list(owner=owner, contacts=contacts, fields=c('Name','Phone','Email','Age'))\n",
      "    class(obj) = 'addressBook'\n",
      "    return(obj)\n",
      "    }\n"
     ],
     "language": "python",
     "metadata": {},
     "outputs": [],
     "prompt_number": 13
    },
    {
     "cell_type": "code",
     "collapsed": false,
     "input": [
      "%%R\n",
      "\n",
      "a = addressBook('Oscar', list(bob, paul, jane))\n",
      "print(a)"
     ],
     "language": "python",
     "metadata": {},
     "outputs": [
      {
       "metadata": {},
       "output_type": "display_data",
       "text": [
        "$owner\n",
        "[1] \"Oscar\"\n",
        "\n",
        "$contacts\n",
        "$contacts[[1]]\n",
        "$Name\n",
        "[1] \"Bob Duran\"\n",
        "\n",
        "$Phone\n",
        "[1] \"324 5342\"\n",
        "\n",
        "$Email\n",
        "[1] \"234@ljlj.com\"\n",
        "\n",
        "$Age\n",
        "[1] 12\n",
        "\n",
        "attr(,\"class\")\n",
        "[1] \"contact\"\n",
        "\n",
        "$contacts[[2]]\n",
        "$Name\n",
        "[1] \"Paul Duran\"\n",
        "\n",
        "$Phone\n",
        "[1] \"324 5342\"\n",
        "\n",
        "$Email\n",
        "[1] \"234@ljlj.com\"\n",
        "\n",
        "$Age\n",
        "[1] 12\n",
        "\n",
        "attr(,\"class\")\n",
        "[1] \"contact\"\n",
        "\n",
        "$contacts[[3]]\n",
        "$Name\n",
        "[1] \"Jane Duran\"\n",
        "\n",
        "$Phone\n",
        "[1] \"324 5342\"\n",
        "\n",
        "$Email\n",
        "[1] \"234@ljlj.com\"\n",
        "\n",
        "$Age\n",
        "[1] 12\n",
        "\n",
        "attr(,\"class\")\n",
        "[1] \"contact\"\n",
        "\n",
        "\n",
        "$fields\n",
        "[1] \"Name\"  \"Phone\" \"Email\" \"Age\"  \n",
        "\n",
        "attr(,\"class\")\n",
        "[1] \"addressBook\"\n"
       ]
      }
     ],
     "prompt_number": 15
    },
    {
     "cell_type": "code",
     "collapsed": false,
     "input": [
      "%%R\n",
      "\n",
      "as.data.frame.addressBook = function(obj){\n",
      "    get.field = function(field){\n",
      "        return(sapply(obj$contacts, function(x) x[[field]]))\n",
      "            }\n",
      "    df = data.frame(lapply(obj$fields, get.field))\n",
      "    colnames(df) = obj$fields\n",
      "    rownames(df) = 1:length(obj$contacts)\n",
      "    return(df)\n",
      "    }\n",
      "\n",
      "                              \n"
     ],
     "language": "python",
     "metadata": {},
     "outputs": [],
     "prompt_number": 141
    },
    {
     "cell_type": "code",
     "collapsed": false,
     "input": [
      "%%R\n",
      "df = as.data.frame(a)\n",
      "print(df)"
     ],
     "language": "python",
     "metadata": {},
     "outputs": [
      {
       "metadata": {},
       "output_type": "display_data",
       "text": [
        "        Name    Phone        Email Age\n",
        "1  Bob Duran 324 5342 234@ljlj.com  12\n",
        "2 Paul Duran 324 5342 234@ljlj.com  12\n",
        "3 Jane Duran 324 5342 234@ljlj.com  12\n"
       ]
      }
     ],
     "prompt_number": 142
    },
    {
     "cell_type": "code",
     "collapsed": false,
     "input": [
      "%%R\n",
      "\n",
      "print.addressBook = function(obj){\n",
      "    print(obj$owner)\n",
      "    print(as.data.frame(obj))\n",
      "    }"
     ],
     "language": "python",
     "metadata": {},
     "outputs": [],
     "prompt_number": 59
    },
    {
     "cell_type": "code",
     "collapsed": false,
     "input": [
      "%%R\n",
      "\n",
      "print(a)"
     ],
     "language": "python",
     "metadata": {},
     "outputs": [
      {
       "metadata": {},
       "output_type": "display_data",
       "text": [
        "[1] \"Oscar\"\n",
        "        Name    Phone        Email Age\n",
        "1  Bob Duran 324 5342 234@ljlj.com  12\n",
        "2 Paul Duran 324 5342 234@ljlj.com  12\n",
        "3 Jane Duran 324 5342 234@ljlj.com  12\n"
       ]
      }
     ],
     "prompt_number": 60
    },
    {
     "cell_type": "code",
     "collapsed": false,
     "input": [
      "%%R\n",
      "\n",
      "info = c('Bob Durant 56years bob@bibishop.com',\n",
      "         'Dan Bribri 10years 415 7838',\n",
      "         'Brig Farty 38years 510 3478',\n",
      "         'Cart Shuok 34years Cart@RATROU.com',\n",
      "         'Krug Erbil 54years Cart@RATROU.com 510 230 450')"
     ],
     "language": "python",
     "metadata": {},
     "outputs": [],
     "prompt_number": 61
    },
    {
     "cell_type": "code",
     "collapsed": false,
     "input": [
      "%%R\n",
      "\n",
      "create.addressBook = function(info, owner){\n",
      "    getName = function(info){\n",
      "        return(sub(' [0-9]{2}.*', \"\", info))}\n",
      "    getAge = function(info){\n",
      "        return(sub(\"year.*\", \"\", sub(\"[^0-9]+\", \"\", info)))}\n",
      "    getPhone = function(info){\n",
      "        return(sub('^[^0-9 ]*', '', sub('^.*years *', '', info)))}\n",
      "    getEmail = function(info){\n",
      "        return(gsub(\"[0-9]|\\\\s\", \"\" , sub(\"^.*years \", \"\", info)))}\n",
      "    \n",
      "    info.df = data.frame(getName(info), getPhone(info), getEmail(info), getAge(info))\n",
      "    contact.df = as.data.frame(t(info.df), stringAsFactor=F)\n",
      "    contact.list = lapply(contact.df, function(x) contact(name=x[1], phone=x[2],\n",
      "                                                          email=x[3], age=x[4]))\n",
      "    return(addressBook(owner, contact.list))\n",
      "}\n"
     ],
     "language": "python",
     "metadata": {},
     "outputs": [],
     "prompt_number": 143
    },
    {
     "cell_type": "code",
     "collapsed": false,
     "input": [
      "%%R\n",
      "\n",
      "clist = create.addressBook(info, 'oscar')\n",
      "print(clist)"
     ],
     "language": "python",
     "metadata": {},
     "outputs": [
      {
       "metadata": {},
       "output_type": "display_data",
       "text": [
        "[1] \"oscar\"\n",
        "        Name        Phone            Email Age\n",
        "1 Bob Durant              bob@bibishop.com  56\n",
        "2 Dan Bribri     415 7838                   10\n",
        "3 Brig Farty     510 3478                   38\n",
        "4 Cart Shuok               Cart@RATROU.com  34\n",
        "5 Krug Erbil  510 230 450  Cart@RATROU.com  54\n"
       ]
      }
     ],
     "prompt_number": 144
    },
    {
     "cell_type": "markdown",
     "metadata": {},
     "source": [
      "##Part III##"
     ]
    },
    {
     "cell_type": "code",
     "collapsed": false,
     "input": [
      "%%R\n",
      "\n",
      "student.number = 200\n",
      "\n",
      "Homework = rnorm(student.number, mean=50, sd=30)\n",
      "Midterm  = rnorm(student.number, mean=50, sd=30)\n",
      "Final    = rnorm(student.number, mean=50, sd=30)\n",
      "grades   = data.frame(F=Final, M=Midterm, H=Homework)\n",
      "\n",
      "for(i in 1:nrow(grades)){\n",
      "    for(j in 1:ncol(grades)){\n",
      "        if(grades[i,j] > 100) grades[i,j] = 100\n",
      "        if(grades[i,j] < 0  ) grades[i,j] = 0           \n",
      "    }\n",
      "}\n",
      "\n",
      "\n",
      "V = c('a', 'e', 'i','o','u','au','in','an','on','ou')\n",
      "C = letters[-grep('a|e|i|o|u', letters)]\n",
      "I = toupper(C)\n",
      "\n",
      "simulated.names = c()\n",
      "\n",
      "for (i in 1:student.number){\n",
      "    first.name = paste(sample(I,1), sample(V,1), sample(C,1), sample(V,1), sep='')\n",
      "    last.name  = paste(sample(I,1), sample(V,1), sample(C,1), sample(V,1), sep='')\n",
      "    name       = paste(first.name, last.name, sep=' ')\n",
      "    simulated.names = c(simulated.names, name)\n",
      "}\n",
      "\n",
      "\n",
      "row.names(grades) = simulated.names"
     ],
     "language": "python",
     "metadata": {},
     "outputs": [],
     "prompt_number": 145
    },
    {
     "cell_type": "code",
     "collapsed": false,
     "input": [
      "%%R\n",
      "\n",
      "V = c('a', 'e', 'i','o','u','au','in','an','on','ou')\n",
      "C = letters[-grep('a|e|i|o|u', letters)]\n",
      "I = toupper(C)\n",
      "\n",
      "words = function(vec, n){\n",
      "    return(sample(vec, n, replace=T, prob=rep(1/length(vec), length(vec))))}\n",
      "\n",
      "singleName = function(n) paste(words(I,n), words(V, n), words(C, n), words(V,n), sep=\"\")\n",
      "\n",
      "simulate.names = function(n){\n",
      "    return(paste(singleName(n), singleName(n), sep=\" \"))}\n",
      "    "
     ],
     "language": "python",
     "metadata": {},
     "outputs": [
      {
       "metadata": {},
       "output_type": "display_data",
       "text": [
        " [1] \"Rizan Petin\"  \"Faudan Monpo\" \"Donxu Vojau\"  \"Yanlon Jipo\"  \"Biwi Zinvou\" \n",
        " [6] \"Ranvin Lehe\"  \"Ganmau Ninni\" \"Japa Finyon\"  \"Qouran Lanji\" \"Yonme Banon\" \n"
       ]
      }
     ],
     "prompt_number": 147
    },
    {
     "cell_type": "code",
     "collapsed": false,
     "input": [
      "%%R\n",
      "\n",
      "clean.range = function(vec, range){\n",
      "    vec[vec<range[1]] = range[1]\n",
      "    vec[vec>range[2]] = range[2]\n",
      "    return(vec)\n",
      "    }\n",
      "\n",
      "simulate.gradeFrame = function(col.names, student.num, grade.range=NULL){\n",
      "    grades = replicate(length(col.names), rnorm(student.num, mean=50, sd=30))\n",
      "    if (!is.null(grade.range)){\n",
      "        grades = clean.range(grades, grade.range)\n",
      "        }\n",
      "    names = simulate.names(student.num)\n",
      "    df = data.frame(grades, row.names=names)\n",
      "    colnames(df) = col.names\n",
      "    return(df)\n",
      "    }\n",
      "    \n",
      "    "
     ],
     "language": "python",
     "metadata": {},
     "outputs": [],
     "prompt_number": 153
    },
    {
     "cell_type": "code",
     "collapsed": false,
     "input": [
      "%%R\n",
      "\n",
      "grades = simulate.gradeFrame(c('F', 'M', 'H'), 200)\n",
      "print(head(grades))"
     ],
     "language": "python",
     "metadata": {},
     "outputs": [
      {
       "metadata": {},
       "output_type": "display_data",
       "text": [
        "                     F        M         H\n",
        "Cogu Mejin    22.37250 25.02006  62.93262\n",
        "Yanjin Kori   77.35618 67.46049  21.58593\n",
        "Wonla Qonro   69.87524 89.74056  54.78370\n",
        "Mougan Qinje  64.18563 48.00193  27.83539\n",
        "Wuvon Neyou   34.24269 37.59283 133.44970\n",
        "Fecon Zule   109.28139 35.54994  50.32252\n"
       ]
      }
     ],
     "prompt_number": 157
    }
   ],
   "metadata": {}
  }
 ]
}