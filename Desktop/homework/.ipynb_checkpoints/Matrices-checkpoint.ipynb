{
 "metadata": {
  "name": ""
 },
 "nbformat": 3,
 "nbformat_minor": 0,
 "worksheets": [
  {
   "cells": [
    {
     "cell_type": "code",
     "collapsed": false,
     "input": [
      "%load_ext rmagic"
     ],
     "language": "python",
     "metadata": {},
     "outputs": [],
     "prompt_number": 2
    },
    {
     "cell_type": "markdown",
     "metadata": {},
     "source": [
      "##Matrices\n",
      "\n",
      "A matrix has an inverse solution. Create an matrix, use:\n",
      "\n",
      "    matrix(data, nrow, ncol, byrow = FALSE)\n",
      "    \n"
     ]
    },
    {
     "cell_type": "code",
     "collapsed": false,
     "input": [
      "%%R\n",
      "\n",
      "A = matrix(2:5, 2, byrow=T)\n",
      "B = matrix(c(2,3), 2)\n",
      "print(A)\n",
      "print(B)"
     ],
     "language": "python",
     "metadata": {},
     "outputs": [
      {
       "metadata": {},
       "output_type": "display_data",
       "text": [
        "     [,1] [,2]\n",
        "[1,]    2    3\n",
        "[2,]    4    5\n",
        "     [,1]\n",
        "[1,]    2\n",
        "[2,]    3\n"
       ]
      }
     ],
     "prompt_number": 4
    },
    {
     "cell_type": "markdown",
     "metadata": {},
     "source": [
      "To solve the equation one multiplies the inverse of A with the B. Use,\n",
      "    \n",
      "    solve(A)\n",
      "    \n",
      "to get the inverse of A.\n",
      "\n",
      "To do matrix multiplication, use\n",
      "\n",
      "    A^-1 %*% B\n",
      "    \n",
      "   "
     ]
    },
    {
     "cell_type": "code",
     "collapsed": false,
     "input": [
      "%%R\n",
      "\n",
      "inverse = solve(A)\n",
      "print(inverse)\n",
      "print(inverse %*% B)"
     ],
     "language": "python",
     "metadata": {},
     "outputs": [
      {
       "metadata": {},
       "output_type": "display_data",
       "text": [
        "     [,1] [,2]\n",
        "[1,] -2.5  1.5\n",
        "[2,]  2.0 -1.0\n",
        "     [,1]\n",
        "[1,] -0.5\n",
        "[2,]  1.0\n"
       ]
      }
     ],
     "prompt_number": 6
    },
    {
     "cell_type": "markdown",
     "metadata": {},
     "source": [
      "Thus our answer is:"
     ]
    },
    {
     "cell_type": "code",
     "collapsed": false,
     "input": [
      "%%R\n",
      "\n",
      "answer = inverse %*% B\n",
      "print(answer)"
     ],
     "language": "python",
     "metadata": {},
     "outputs": [
      {
       "metadata": {},
       "output_type": "display_data",
       "text": [
        "     [,1]\n",
        "[1,] -0.5\n",
        "[2,]  1.0\n"
       ]
      }
     ],
     "prompt_number": 7
    }
   ],
   "metadata": {}
  }
 ]
}