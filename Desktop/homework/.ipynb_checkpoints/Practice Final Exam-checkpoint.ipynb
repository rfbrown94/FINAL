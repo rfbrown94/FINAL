{
 "metadata": {
  "name": ""
 },
 "nbformat": 3,
 "nbformat_minor": 0,
 "worksheets": [
  {
   "cells": [
    {
     "cell_type": "code",
     "collapsed": false,
     "input": [
      "%load_ext rmagic"
     ],
     "language": "python",
     "metadata": {},
     "outputs": [],
     "prompt_number": 1
    },
    {
     "cell_type": "markdown",
     "metadata": {},
     "source": [
      "##Part 1##"
     ]
    },
    {
     "cell_type": "code",
     "collapsed": false,
     "input": [
      "%%R\n",
      "\n",
      "x = c(1:20, 19:1)\n",
      "print(x)"
     ],
     "language": "python",
     "metadata": {},
     "outputs": [
      {
       "metadata": {},
       "output_type": "display_data",
       "text": [
        " [1]  1  2  3  4  5  6  7  8  9 10 11 12 13 14 15 16 17 18 19 20 19 18 17 16 15\n",
        "[26] 14 13 12 11 10  9  8  7  6  5  4  3  2  1\n"
       ]
      }
     ],
     "prompt_number": 2
    },
    {
     "cell_type": "code",
     "collapsed": false,
     "input": [
      "%%R\n",
      "\n",
      "x = c(rep(4, 10), rep(6, 20), rep(3, 30)); print(x)\n",
      "\n"
     ],
     "language": "python",
     "metadata": {},
     "outputs": [
      {
       "metadata": {},
       "output_type": "display_data",
       "text": [
        " [1] 4 4 4 4 4 4 4 4 4 4 6 6 6 6 6 6 6 6 6 6 6 6 6 6 6 6 6 6 6 6 3 3 3 3 3 3 3 3\n",
        "[39] 3 3 3 3 3 3 3 3 3 3 3 3 3 3 3 3 3 3 3 3 3 3\n"
       ]
      }
     ],
     "prompt_number": 3
    },
    {
     "cell_type": "code",
     "collapsed": false,
     "input": [
      "%%R\n",
      "\n",
      "labels = paste('label', 1:30, sep=\" \")\n",
      "print(head(labels));print(tail(labels))"
     ],
     "language": "python",
     "metadata": {},
     "outputs": [
      {
       "metadata": {},
       "output_type": "display_data",
       "text": [
        "[1] \"label 1\" \"label 2\" \"label 3\" \"label 4\" \"label 5\" \"label 6\"\n",
        "[1] \"label 25\" \"label 26\" \"label 27\" \"label 28\" \"label 29\" \"label 30\"\n"
       ]
      }
     ],
     "prompt_number": 4
    },
    {
     "cell_type": "code",
     "collapsed": false,
     "input": [
      "%%R\n",
      "\n",
      "x = seq(3, 6, by=0.1)\n",
      "x = exp(x)*cos(x)\n",
      "print(x)"
     ],
     "language": "python",
     "metadata": {},
     "outputs": [
      {
       "metadata": {},
       "output_type": "display_data",
       "text": [
        " [1] -19.884531 -22.178753 -24.490697 -26.773182 -28.969238 -31.011186\n",
        " [7] -32.819775 -34.303360 -35.357194 -35.862834 -35.687732 -34.685042\n",
        "[13] -32.693695 -29.538816 -25.032529 -18.975233 -11.157417  -1.362099\n",
        "[19]  10.632038  25.046705  42.099201  61.996630  84.929067 111.061586\n",
        "[25] 140.525075 173.405776 209.733494 249.468441 292.486707 338.564378\n",
        "[31] 387.360340\n"
       ]
      }
     ],
     "prompt_number": 6
    },
    {
     "cell_type": "code",
     "collapsed": false,
     "input": [
      "%%R\n",
      "\n",
      "x = 1:200\n",
      "x = (1/2)^x\n",
      "y = sum(exp(-x[2:length(x)])/(x[1:length(x)-1] + 10))\n",
      "\n",
      "print(y)"
     ],
     "language": "python",
     "metadata": {},
     "outputs": [
      {
       "metadata": {},
       "output_type": "display_data",
       "text": [
        "[1] 19.84565\n"
       ]
      }
     ],
     "prompt_number": 9
    },
    {
     "cell_type": "code",
     "collapsed": false,
     "input": [
      "%%R\n",
      "\n",
      "simulate.weatherFrame = function(n, T.freq, H.freq){\n",
      "    Temperatur = factor(sample(c('Cold', 'Warm', 'Hot'), n, replace=T, prob=T.freq))\n",
      "    Humidity = factor(sample(c('Low', 'Normal', 'High'), n, replace=T, prob=H.freq))\n",
      "    return(data.frame(Temperatur, Humidity))\n",
      "    }\n"
     ],
     "language": "python",
     "metadata": {},
     "outputs": [
      {
       "metadata": {},
       "output_type": "display_data",
       "text": [
        "   Temperatur Humidity\n",
        "1        Warm   Normal\n",
        "2        Warm   Normal\n",
        "3        Warm   Normal\n",
        "4        Warm      Low\n",
        "5         Hot      Low\n",
        "6        Warm     High\n",
        "7        Cold     High\n",
        "8        Cold     High\n",
        "9         Hot      Low\n",
        "10       Warm     High\n"
       ]
      }
     ],
     "prompt_number": 15
    },
    {
     "cell_type": "code",
     "collapsed": false,
     "input": [
      "%%R\n",
      "\n",
      "df = simulate.weatherFrame(200, c(0.2, 0.3, 0.5), c(0.2, 0.3, 0.5))\n",
      "print(head(df))"
     ],
     "language": "python",
     "metadata": {},
     "outputs": [
      {
       "metadata": {},
       "output_type": "display_data",
       "text": [
        "  Temperatur Humidity\n",
        "1        Hot   Normal\n",
        "2        Hot      Low\n",
        "3        Hot   Normal\n",
        "4       Warm     High\n",
        "5        Hot     High\n",
        "6        Hot   Normal\n"
       ]
      }
     ],
     "prompt_number": 16
    },
    {
     "cell_type": "markdown",
     "metadata": {},
     "source": [
      "##Part II ##\n",
      "\n",
      "Consider the following character vector containing personal information:\n",
      "\n",
      "* Write the constructor of a class contact that has the following attributes: Name, Phone, Email, and Age."
     ]
    },
    {
     "cell_type": "code",
     "collapsed": false,
     "input": [
      "%%R\n",
      "\n",
      "contact = function(name, phone, email, age){\n",
      "    obj = list(Name=name, Phone=phone, Email=email, Age=age)\n",
      "    class(obj) = 'contact'\n",
      "    return(obj)\n",
      "    }\n"
     ],
     "language": "python",
     "metadata": {},
     "outputs": [],
     "prompt_number": 202
    },
    {
     "cell_type": "code",
     "collapsed": false,
     "input": [
      "%%R\n",
      "\n",
      "bob = contact('Bob Duran', '324 5342', '234@ljlj.com', 12)\n",
      "paul = contact('Paul Duran', '324 5342', '234@ljlj.com', 12)\n",
      "jane = contact('Jane Duran', '324 5342', '234@ljlj.com', 12)\n",
      "\n",
      "print(bob$Phone)\n",
      "print(class(bob))"
     ],
     "language": "python",
     "metadata": {},
     "outputs": [
      {
       "metadata": {},
       "output_type": "display_data",
       "text": [
        "[1] \"324 5342\"\n",
        "[1] \"contact\"\n"
       ]
      }
     ],
     "prompt_number": 28
    },
    {
     "cell_type": "code",
     "collapsed": false,
     "input": [
      "%%R\n",
      "\n",
      "addressBook = function(owner, contact=list()){\n",
      "    obj = list(owner=owner, contact=contact, fields=c('Name', 'Phone', 'Email', 'Age'))\n",
      "    class(obj) = 'addressBook'\n",
      "    return(obj)\n",
      "}\n",
      "                       "
     ],
     "language": "python",
     "metadata": {},
     "outputs": [],
     "prompt_number": 31
    },
    {
     "cell_type": "code",
     "collapsed": false,
     "input": [
      "%%R\n",
      "\n",
      "a = addressBook('Bertrant Blue', list(bob, paul, jane))\n",
      "print(a)"
     ],
     "language": "python",
     "metadata": {},
     "outputs": [
      {
       "metadata": {},
       "output_type": "display_data",
       "text": [
        "$owner\n",
        "[1] \"Bertrant Blue\"\n",
        "\n",
        "$contact\n",
        "$contact[[1]]\n",
        "$Name\n",
        "[1] \"Bob Duran\"\n",
        "\n",
        "$Phone\n",
        "[1] \"324 5342\"\n",
        "\n",
        "$Email\n",
        "[1] \"234@ljlj.com\"\n",
        "\n",
        "$Age\n",
        "[1] 12\n",
        "\n",
        "attr(,\"class\")\n",
        "[1] \"contact\"\n",
        "\n",
        "$contact[[2]]\n",
        "$Name\n",
        "[1] \"Paul Duran\"\n",
        "\n",
        "$Phone\n",
        "[1] \"324 5342\"\n",
        "\n",
        "$Email\n",
        "[1] \"234@ljlj.com\"\n",
        "\n",
        "$Age\n",
        "[1] 12\n",
        "\n",
        "attr(,\"class\")\n",
        "[1] \"contact\"\n",
        "\n",
        "$contact[[3]]\n",
        "$Name\n",
        "[1] \"Jane Duran\"\n",
        "\n",
        "$Phone\n",
        "[1] \"324 5342\"\n",
        "\n",
        "$Email\n",
        "[1] \"234@ljlj.com\"\n",
        "\n",
        "$Age\n",
        "[1] 12\n",
        "\n",
        "attr(,\"class\")\n",
        "[1] \"contact\"\n",
        "\n",
        "\n",
        "$fields\n",
        "[1] \"Name\"  \"Phone\" \"Email\" \"Age\"  \n",
        "\n",
        "attr(,\"class\")\n",
        "[1] \"addressBook\"\n"
       ]
      }
     ],
     "prompt_number": 33
    },
    {
     "cell_type": "code",
     "collapsed": false,
     "input": [
      "%%R\n",
      "\n",
      "as.data.frame.addressBook = function(object){\n",
      "    getField = function(field){\n",
      "        sapply(object$contact, function(x) x[[field]])\n",
      "    }\n",
      "    df = as.data.frame(lapply(object$fields, getField))\n",
      "    colnames(df) = object$fields\n",
      "    return(df)\n",
      "}"
     ],
     "language": "python",
     "metadata": {},
     "outputs": [],
     "prompt_number": 51
    },
    {
     "cell_type": "code",
     "collapsed": false,
     "input": [
      "%%R\n",
      "\n",
      "print.addressBook = function(object) return(print(as.data.frame(object)))\n",
      "    \n"
     ],
     "language": "python",
     "metadata": {},
     "outputs": [],
     "prompt_number": 163
    },
    {
     "cell_type": "code",
     "collapsed": false,
     "input": [
      "%%R\n",
      "\n",
      "print(a)"
     ],
     "language": "python",
     "metadata": {},
     "outputs": [
      {
       "metadata": {},
       "output_type": "display_data",
       "text": [
        "        Name    Phone        Email Age\n",
        "1  Bob Duran 324 5342 234@ljlj.com  12\n",
        "2 Paul Duran 324 5342 234@ljlj.com  12\n",
        "3 Jane Duran 324 5342 234@ljlj.com  12\n"
       ]
      }
     ],
     "prompt_number": 164
    },
    {
     "cell_type": "code",
     "collapsed": false,
     "input": [
      "%%R\n",
      "\n",
      "getName  = function(info) sub('[0-9]{2}years.*', '', info)\n",
      "getPhone = function(info) sub('^[^0-9 ]*', '', sub('^.*years *', '', info))\n",
      "getEmail = function(info) sub('[ 0-9]*$', '', sub('^.*years *', '', info))\n",
      "getAge   = function(info) as.numeric(sub('years.*', '', sub('^[^0-9]+', '', info)))\n",
      "    \n",
      "create.addressBook = function(info, owner)\n",
      "{\n",
      "    info.df = data.frame(getName(info), \n",
      "                         getPhone(info), \n",
      "                         getEmail(info), \n",
      "                         getAge(info)\n",
      "                        )\n",
      "    contact.df = as.data.frame(t(info.df), stringsAsFactors=F)\n",
      "    contact.list = lapply(contact.df, \n",
      "                          function(X) contact(name=X[1], \n",
      "                                              phone=X[2], \n",
      "                                              email=X[3], \n",
      "                                              age=X[4])\n",
      "                              )\n",
      "    return(addressBook(owner, contact.list))\n",
      "}\n",
      "                          \n",
      "                          \n",
      "                    "
     ],
     "language": "python",
     "metadata": {},
     "outputs": [],
     "prompt_number": 204
    },
    {
     "cell_type": "code",
     "collapsed": false,
     "input": [
      "%%R\n",
      "\n",
      "info = c('Bob Durant 56years bob@bibishop.com',\n",
      "         'Dan Bribri 10years 415 7838',\n",
      "         'Brig Farty 38years 510 3478',\n",
      "         'Cart Shuok 34years Cart@RATROU.com',\n",
      "         'Krug Erbil 54years Cart@RATROU.com 510 230 450')"
     ],
     "language": "python",
     "metadata": {},
     "outputs": [],
     "prompt_number": 159
    },
    {
     "cell_type": "code",
     "collapsed": false,
     "input": [
      "%%R\n",
      "\n",
      "df = create.addressBook(info, 'oscar')\n",
      "print(df)"
     ],
     "language": "python",
     "metadata": {},
     "outputs": [
      {
       "metadata": {},
       "output_type": "display_data",
       "text": [
        "          Name        Phone            Email Age\n",
        "V1 Bob Durant               bob@bibishop.com  56\n",
        "V2 Dan Bribri      415 7838                   10\n",
        "V3 Brig Farty      510 3478                   38\n",
        "V4 Cart Shuok                Cart@RATROU.com  34\n",
        "V5 Krug Erbil   510 230 450  Cart@RATROU.com  54\n"
       ]
      }
     ],
     "prompt_number": 205
    },
    {
     "cell_type": "markdown",
     "metadata": {},
     "source": [
      "##Part 3\n",
      "\n",
      "\n",
      "The following code simulates a data frame containing the homework, midterm, and final grades of a given class. The grades and the student names are randomly generated. This code is not optimal for two reasons:\n",
      "\n",
      "it is not broken into simple functions, which we may reuse to simulate data frame of the same type\n",
      "\n",
      "it is not vectorized, since it loops and branches over vector elements with for and if statements\n"
     ]
    },
    {
     "cell_type": "code",
     "collapsed": false,
     "input": [
      "%%R\n",
      "\n",
      "student.number = 200\n",
      "\n",
      "Homework = rnorm(student.number, mean=50, sd=30)\n",
      "Midterm  = rnorm(student.number, mean=50, sd=30)\n",
      "Final    = rnorm(student.number, mean=50, sd=30)\n",
      "grades   = data.frame(F=Final, M=Midterm, H=Homework)\n",
      "\n",
      "for(i in 1:nrow(grades)){\n",
      "    for(j in 1:ncol(grades)){\n",
      "        if(grades[i,j] > 100) grades[i,j] = 100\n",
      "        if(grades[i,j] < 0  ) grades[i,j] = 0           \n",
      "    }\n",
      "}\n",
      "\n",
      "\n",
      "V = c('a', 'e', 'i','o','u','au','in','an','on','ou')\n",
      "C = letters[-grep('a|e|i|o|u', letters)]\n",
      "I = toupper(C)\n",
      "\n",
      "simulated.names = c()\n",
      "\n",
      "for (i in 1:student.number){\n",
      "    first.name = paste(sample(I,1), sample(V,1), sample(C,1), sample(V,1), sep='')\n",
      "    last.name  = paste(sample(I,1), sample(V,1), sample(C,1), sample(V,1), sep='')\n",
      "    name       = paste(first.name, last.name, sep=' ')\n",
      "    simulated.names = c(simulated.names, name)\n",
      "}\n",
      "\n",
      "\n",
      "row.names(grades) = simulated.names"
     ],
     "language": "python",
     "metadata": {},
     "outputs": [],
     "prompt_number": 206
    },
    {
     "cell_type": "code",
     "collapsed": false,
     "input": [
      "%%R\n",
      "V = c('a', 'e', 'i','o','u','au','in','an','on','ou')\n",
      "C = letters[-grep('a|e|i|o|u', letters)]\n",
      "I = toupper(C)\n",
      "\n",
      "simulate.names = function(n){\n",
      "    create.first.name = function(){\n",
      "        paste(sample(I,1), sample(V,1), sample(C,1), sample(V,1), sep='')}\n",
      "    create.last.name = function(){\n",
      "        paste(sample(I,1), sample(V,1), sample(C,1), sample(V,1), sep='')}\n",
      "    simulated.names = replicate(n, paste(create.first.name(), create.last.name(), sep=' '))\n",
      "    return(simulated.names)\n",
      "}\n",
      "\n",
      "clean.grades = function(data, range){\n",
      "    data[data<range[1]] = range[1]\n",
      "    data[data>range[2]] = range[2]\n",
      "    return(data)\n",
      "}\n",
      "\n",
      "create.gradeFrame = function(col.names, student.number, grade.range){\n",
      "    names = simulate.names(student.number)\n",
      "    grades = replicate(length(col.names), round(rnorm(student.number, mean=50, sd=30)))\n",
      "    grades = clean.grades(grades, grade.range)\n",
      "    df = as.data.frame(grades, row.names=names)\n",
      "    colnames(df) = col.names\n",
      "    return(df)\n",
      "}\n",
      "\n",
      "    "
     ],
     "language": "python",
     "metadata": {},
     "outputs": [],
     "prompt_number": 219
    },
    {
     "cell_type": "code",
     "collapsed": false,
     "input": [
      "%%R\n",
      "grades = create.gradeFrame(c('F','M','H'), 10, c(0,100))\n",
      "print(grades)"
     ],
     "language": "python",
     "metadata": {},
     "outputs": [
      {
       "metadata": {},
       "output_type": "display_data",
       "text": [
        "              F   M   H\n",
        "Sili Dindou  19  29 100\n",
        "Deca Donkan  14  27  34\n",
        "Ginau Fonhou 61  76  16\n",
        "Fouvau Pajin  7  89  31\n",
        "Zauson Yiye  30  78  57\n",
        "Nuke Zonxe   64  28  39\n",
        "Vinqu Rega   72 100   6\n",
        "Kehu Fopu    55  25  74\n",
        "Yaqan Kujan  45  30 100\n",
        "Vokou Gouda  68  41  38\n"
       ]
      }
     ],
     "prompt_number": 220
    },
    {
     "cell_type": "code",
     "collapsed": false,
     "input": [],
     "language": "python",
     "metadata": {},
     "outputs": []
    },
    {
     "cell_type": "code",
     "collapsed": false,
     "input": [
      "%%R\n",
      "\n",
      "print(head(grades))"
     ],
     "language": "python",
     "metadata": {},
     "outputs": [
      {
       "metadata": {},
       "output_type": "display_data",
       "text": [
        "                     F        M        H\n",
        "Tonsin Cuhon  73.65580 78.43875 63.56440\n",
        "Tonlo Damou   82.75932 52.54420 35.72256\n",
        "Toyau Yanau    0.00000 86.53671 79.75601\n",
        "Nouwan Pintan 37.25996 95.72657 44.82240\n",
        "Fauqin Kavan  38.50850 18.17297 76.72425\n",
        "Yeme Nozin    68.00071 25.80327 40.83891\n"
       ]
      }
     ],
     "prompt_number": 207
    }
   ],
   "metadata": {}
  }
 ]
}