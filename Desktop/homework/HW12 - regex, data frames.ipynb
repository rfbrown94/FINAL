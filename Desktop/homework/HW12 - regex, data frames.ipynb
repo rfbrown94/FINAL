{
 "metadata": {
  "name": ""
 },
 "nbformat": 3,
 "nbformat_minor": 0,
 "worksheets": [
  {
   "cells": [
    {
     "cell_type": "code",
     "collapsed": false,
     "input": [
      "%load_ext rmagic"
     ],
     "language": "python",
     "metadata": {},
     "outputs": [],
     "prompt_number": 1
    },
    {
     "cell_type": "markdown",
     "metadata": {},
     "source": [
      "##Cleaning data##\n"
     ]
    },
    {
     "cell_type": "code",
     "collapsed": false,
     "input": [
      "%%R\n",
      "\n",
      "data = read.csv(\"messy_data.csv\", stringsAsFactor=F)\n",
      "print(head(data))"
     ],
     "language": "python",
     "metadata": {},
     "outputs": [
      {
       "metadata": {},
       "output_type": "display_data",
       "text": [
        "                   id.var1                 email.var2 size.var3 sex.var4\n",
        "1            12 C Bob Roux      <barbu> bar@ratoo.com     1.8 m     Male\n",
        "2        34 F Trib Marchal <tribal> kar.boo@birma.org    1.56 m        M\n",
        "3    54 D Tran Culobouille       tranicule@flight.edu    1.67 m   Female\n",
        "4     45 E Emilian Vertigo   emilian.truss@myhaoo.com  1.99 (m)        f\n",
        "5       88 E Verges Arnold verges@lawers.com <frivol>  (m) 1.44        m\n",
        "6 45 C Rantanplan Figueira   rantanplan@luckyluke.org  (m) 1.99     Male\n"
       ]
      }
     ],
     "prompt_number": 11
    },
    {
     "cell_type": "code",
     "collapsed": false,
     "input": [
      "%%R\n",
      "\n",
      "names = names(data)\n",
      "colnames(data) = sub(\"\\\\.var.\", \"\", names)\n",
      "print(data)\n"
     ],
     "language": "python",
     "metadata": {},
     "outputs": [
      {
       "metadata": {},
       "output_type": "display_data",
       "text": [
        "                        id                      email     size    sex\n",
        "1            12 C Bob Roux      <barbu> bar@ratoo.com    1.8 m   Male\n",
        "2        34 F Trib Marchal <tribal> kar.boo@birma.org   1.56 m      M\n",
        "3    54 D Tran Culobouille       tranicule@flight.edu   1.67 m Female\n",
        "4     45 E Emilian Vertigo   emilian.truss@myhaoo.com 1.99 (m)      f\n",
        "5       88 E Verges Arnold verges@lawers.com <frivol> (m) 1.44      m\n",
        "6 45 C Rantanplan Figueira   rantanplan@luckyluke.org (m) 1.99   Male\n",
        "7     66 W  Bobby Benedict     Beny.BOBBY88@cluso.com (m) 1.55 female\n"
       ]
      }
     ],
     "prompt_number": 12
    },
    {
     "cell_type": "code",
     "collapsed": false,
     "input": [
      "%%R\n",
      "\n",
      "names = sub(\"[^A-Z]*. \", \"\", data$id)\n",
      "id = sub(\"\\\\s\", \"\", sub(\" *[A-Z][a-z]+ *[A-Z][a-z]+$\", \"\", data$id))\n",
      "df = data.frame(id, names, email=data$email, size=data$size, sex=data$sex)\n"
     ],
     "language": "python",
     "metadata": {},
     "outputs": [],
     "prompt_number": 21
    },
    {
     "cell_type": "code",
     "collapsed": false,
     "input": [
      "%%R\n",
      "print(df)"
     ],
     "language": "python",
     "metadata": {},
     "outputs": [
      {
       "metadata": {},
       "output_type": "display_data",
       "text": [
        "   id               names                      email     size    sex\n",
        "1 12C            Bob Roux      <barbu> bar@ratoo.com    1.8 m   Male\n",
        "2 34F        Trib Marchal <tribal> kar.boo@birma.org   1.56 m      M\n",
        "3 54D    Tran Culobouille       tranicule@flight.edu   1.67 m Female\n",
        "4 45E     Emilian Vertigo   emilian.truss@myhaoo.com 1.99 (m)      f\n",
        "5 88E       Verges Arnold verges@lawers.com <frivol> (m) 1.44      m\n",
        "6 45C Rantanplan Figueira   rantanplan@luckyluke.org (m) 1.99   Male\n",
        "7 66W      Bobby Benedict     Beny.BOBBY88@cluso.com (m) 1.55 female\n"
       ]
      }
     ],
     "prompt_number": 22
    },
    {
     "cell_type": "code",
     "collapsed": false,
     "input": [
      "%%R\n",
      "\n",
      "email = sub(\"^<[a-z]+> |<[a-z]+>$\", \"\", df$email)\n",
      "df$email = email\n",
      "print(df)"
     ],
     "language": "python",
     "metadata": {},
     "outputs": [
      {
       "metadata": {},
       "output_type": "display_data",
       "text": [
        "   id               names                    email     size    sex\n",
        "1 12C            Bob Roux            bar@ratoo.com    1.8 m   Male\n",
        "2 34F        Trib Marchal        kar.boo@birma.org   1.56 m      M\n",
        "3 54D    Tran Culobouille     tranicule@flight.edu   1.67 m Female\n",
        "4 45E     Emilian Vertigo emilian.truss@myhaoo.com 1.99 (m)      f\n",
        "5 88E       Verges Arnold       verges@lawers.com  (m) 1.44      m\n",
        "6 45C Rantanplan Figueira rantanplan@luckyluke.org (m) 1.99   Male\n",
        "7 66W      Bobby Benedict   Beny.BOBBY88@cluso.com (m) 1.55 female\n"
       ]
      }
     ],
     "prompt_number": 27
    },
    {
     "cell_type": "code",
     "collapsed": false,
     "input": [
      "%%R\n",
      "\n",
      "size = sub(\" m$|^\\\\(m\\\\) | \\\\(m\\\\)$\", \"\", df$size)\n",
      "df$size = as.numeric(size)\n",
      "print(df)\n"
     ],
     "language": "python",
     "metadata": {},
     "outputs": [
      {
       "metadata": {},
       "output_type": "display_data",
       "text": [
        "   id               names                    email size sex\n",
        "1 12C            Bob Roux            bar@ratoo.com 1.80   M\n",
        "2 34F        Trib Marchal        kar.boo@birma.org 1.56   M\n",
        "3 54D    Tran Culobouille     tranicule@flight.edu 1.67   F\n",
        "4 45E     Emilian Vertigo emilian.truss@myhaoo.com 1.99   F\n",
        "5 88E       Verges Arnold       verges@lawers.com  1.44   M\n",
        "6 45C Rantanplan Figueira rantanplan@luckyluke.org 1.99   M\n",
        "7 66W      Bobby Benedict   Beny.BOBBY88@cluso.com 1.55   F\n"
       ]
      }
     ],
     "prompt_number": 35
    },
    {
     "cell_type": "code",
     "collapsed": false,
     "input": [
      "%%R\n",
      "\n",
      "sex = sub(\"Male|m\", \"M\", sub(\"Female|female|f\", \"F\", df$sex))\n",
      "df$sex = sex\n",
      "print(df)"
     ],
     "language": "python",
     "metadata": {},
     "outputs": [
      {
       "metadata": {},
       "output_type": "display_data",
       "text": [
        "   id               names                    email size sex\n",
        "1 12C            Bob Roux            bar@ratoo.com  1.8   M\n",
        "2 34F        Trib Marchal        kar.boo@birma.org 1.56   M\n",
        "3 54D    Tran Culobouille     tranicule@flight.edu 1.67   F\n",
        "4 45E     Emilian Vertigo emilian.truss@myhaoo.com 1.99   F\n",
        "5 88E       Verges Arnold       verges@lawers.com  1.44   M\n",
        "6 45C Rantanplan Figueira rantanplan@luckyluke.org 1.99   M\n",
        "7 66W      Bobby Benedict   Beny.BOBBY88@cluso.com 1.55   F\n"
       ]
      }
     ],
     "prompt_number": 34
    },
    {
     "cell_type": "markdown",
     "metadata": {},
     "source": [
      "##Gathering data from HTML pages (webscraping)##"
     ]
    },
    {
     "cell_type": "markdown",
     "metadata": {},
     "source": [
      "In this exercise, we will use regular expressions to scrap data out of the webpage located at the following url:"
     ]
    },
    {
     "cell_type": "code",
     "collapsed": false,
     "input": [
      "url = 'http://www.calbears.com/SportSelect.dbml?SPSID=749481&SPID=126525&DB_OEM_ID=30100&Q_SEASON=2011'\n"
     ],
     "language": "python",
     "metadata": {},
     "outputs": [],
     "prompt_number": 37
    },
    {
     "cell_type": "markdown",
     "metadata": {},
     "source": [
      "The next lines of Python code display the webpage in the notebook (don't worry about the syntax):"
     ]
    },
    {
     "cell_type": "code",
     "collapsed": false,
     "input": [
      "from IPython.display import HTML\n",
      "HTML('<iframe src=' + url + ' width=700 height=350></iframe>')"
     ],
     "language": "python",
     "metadata": {},
     "outputs": [
      {
       "html": [
        "<iframe src=http://www.calbears.com/SportSelect.dbml?SPSID=749481&SPID=126525&DB_OEM_ID=30100&Q_SEASON=2011 width=700 height=350></iframe>"
       ],
       "metadata": {},
       "output_type": "pyout",
       "prompt_number": 38,
       "text": [
        "<IPython.core.display.HTML at 0x109c42710>"
       ]
      }
     ],
     "prompt_number": 38
    },
    {
     "cell_type": "code",
     "collapsed": false,
     "input": [
      "%%R -i url\n",
      "\n",
      "htmlPage = readLines(url)\n",
      "print(htmlPage[639:675])"
     ],
     "language": "python",
     "metadata": {},
     "outputs": [
      {
       "metadata": {},
       "output_type": "display_data",
       "text": [
        " [1] \"\\t<!-- INTERSTITIAL-->\"                           \n",
        " [2] \"\\t<div id='dc-ad-9074508042400-0-oop'>\"           \n",
        " [3] \"\\t<script type='text/javascript'>\"                \n",
        " [4] \"\\tgoogletag.display('dc-ad-9074508042400-0-oop');\"\n",
        " [5] \"\\t</script>\"                                      \n",
        " [6] \"\\t</div> \"                                        \n",
        " [7] \"\\t\"                                               \n",
        " [8] \"\\t\\t</div>\"                                       \n",
        " [9] \"\"                                                 \n",
        "[10] \"\\t\\t\"                                             \n",
        "[11] \"\"                                                 \n",
        "[12] \"\\t\\t<div class=\\\"clear\\\"></div>\"                  \n",
        "[13] \"\\t</div>\"                                         \n",
        "[14] \"\"                                                 \n",
        "[15] \"\"                                                 \n",
        "[16] \"\"                                                 \n",
        "[17] \"\"                                                 \n",
        "[18] \"<style>\"                                          \n",
        "[19] \"\\ttd.tournament {\"                                \n",
        "[20] \"\\t\\ttext-align:center;\"                           \n",
        "[21] \"\\t\\tfont-weight:bold;\"                            \n",
        "[22] \"\\t}\"                                              \n",
        "[23] \"\"                                                 \n",
        "[24] \"\\t.tournament-sponsor {\"                          \n",
        "[25] \"\\t\\theight:30px;\"                                 \n",
        "[26] \"\\t\\tline-height:30px;\"                            \n",
        "[27] \"\\t}\"                                              \n",
        "[28] \"\"                                                 \n",
        "[29] \"\\t.tournament-sponsor-left {\"                     \n",
        "[30] \"\\t\\tfloat:left;\"                                  \n",
        "[31] \"\\t\\twidth:50%;\"                                   \n",
        "[32] \"\\t\\tdisplay:block;\"                               \n",
        "[33] \"\\t\\ttext-align:right;\"                            \n",
        "[34] \"\\t}\"                                              \n",
        "[35] \"\"                                                 \n",
        "[36] \"\\t.tournament-sponsor-right {\"                    \n",
        "[37] \"\\t\\tfloat:left;\"                                  \n"
       ]
      }
     ],
     "prompt_number": 40
    },
    {
     "cell_type": "code",
     "collapsed": false,
     "input": [
      "%%R\n",
      "\n",
      "indicies = grep('opponent', htmlPage)\n",
      "print(indicies)"
     ],
     "language": "python",
     "metadata": {},
     "outputs": [
      {
       "metadata": {},
       "output_type": "display_data",
       "text": [
        " [1]  683  690  747  779  817  855  893  931  969 1007 1045 1083 1121 1155 1193\n",
        "[16] 1231 1269 1307 1345 1380 1415 1454 1493 1531 1569 1607 1645 1683 1721 1759\n",
        "[31] 1797 1836 1874 1913 1951 1989 2028 2067 2106 2144 2183 2222 2261 2300 2339\n",
        "[46] 2378 2417 2456 2495 2534 2573 2612 2650 2689 2728 2767 2806 2845\n"
       ]
      }
     ],
     "prompt_number": 42
    },
    {
     "cell_type": "code",
     "collapsed": false,
     "input": [
      "%%R\n",
      "\n",
      "htmlValues = function(tag, html, offset){\n",
      "    indicies = grep(tag, html)\n",
      "    return(html[indicies+offset])\n",
      "    }\n",
      "\n"
     ],
     "language": "python",
     "metadata": {},
     "outputs": [],
     "prompt_number": 43
    },
    {
     "cell_type": "code",
     "collapsed": false,
     "input": [
      "%%R\n",
      "\n",
      "dates = htmlValues('class=\"date\"', htmlPage, 1)\n",
      "opponent = htmlValues('class=\"opponent\"', htmlPage, 1)\n",
      "location = htmlValues('class=\"time-location visible-phone\"', htmlPage, 1)\n",
      "results = htmlValues('class=\"results\"', htmlPage, 1)\n",
      "\n",
      "print(length(dates))\n",
      "print(length(opponent))\n",
      "print(length(location))\n",
      "print(length(results))\n"
     ],
     "language": "python",
     "metadata": {},
     "outputs": [
      {
       "metadata": {},
       "output_type": "display_data",
       "text": [
        "[1] 56\n",
        "[1] 56\n",
        "[1] 56\n",
        "[1] 56\n"
       ]
      }
     ],
     "prompt_number": 47
    },
    {
     "cell_type": "code",
     "collapsed": false,
     "input": [
      "%%R\n",
      "\n",
      "rm.tabs = function(x) sub('\\\\t*', \"\", x)\n",
      "\n",
      "dates = rm.tabs(dates)\n",
      "opponent = rm.tabs(opponent)\n",
      "location = rm.tabs(location)\n",
      "results = rm.tabs(results)\n"
     ],
     "language": "python",
     "metadata": {},
     "outputs": [],
     "prompt_number": 52
    },
    {
     "cell_type": "code",
     "collapsed": false,
     "input": [
      "%%R\n",
      "dates = sub(\",<div class='date_nowrap' >\", \"\", sub(\"</div>$\", \"\", dates))\n",
      "print(dates[2])"
     ],
     "language": "python",
     "metadata": {},
     "outputs": [
      {
       "metadata": {},
       "output_type": "display_data",
       "text": [
        "[1] \"Fri Feb 17\"\n"
       ]
      }
     ],
     "prompt_number": 63
    },
    {
     "cell_type": "code",
     "collapsed": false,
     "input": [
      "%%R\n",
      "\n",
      "\n",
      "dates.temp1  = rm.tabs(dates)[2:length(dates)]\n",
      "dates.temp1 = sub(\",<div class='date_nowrap' >\", \"\", sub(\"</div>$\", \"\", dates.temp1))\n",
      "print(dates.temp1[1])\n",
      "dates.temp2  = paste(dates.temp1, '2012')\n",
      "print(dates.temp2[1])\n",
      "\n",
      "dates.clean = as.Date(dates.temp2, '%a %b %d %Y')\n",
      "\n",
      "print(dates.clean)"
     ],
     "language": "python",
     "metadata": {},
     "outputs": [
      {
       "metadata": {},
       "output_type": "display_data",
       "text": [
        "[1] \"Fri Feb 17\"\n",
        "[1] \"Fri Feb 17 2012\"\n",
        " [1] NA NA NA NA NA NA NA NA NA NA NA NA NA NA NA NA NA NA NA NA NA NA NA NA NA\n",
        "[26] NA NA NA NA NA NA NA NA NA NA NA NA NA NA NA NA NA NA NA NA NA NA NA NA NA\n",
        "[51] NA NA NA NA NA\n"
       ]
      }
     ],
     "prompt_number": 67
    },
    {
     "cell_type": "code",
     "collapsed": false,
     "input": [],
     "language": "python",
     "metadata": {},
     "outputs": []
    }
   ],
   "metadata": {}
  }
 ]
}