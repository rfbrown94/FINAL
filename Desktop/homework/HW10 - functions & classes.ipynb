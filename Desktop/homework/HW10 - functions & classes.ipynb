{
 "metadata": {
  "name": ""
 },
 "nbformat": 3,
 "nbformat_minor": 0,
 "worksheets": [
  {
   "cells": [
    {
     "cell_type": "markdown",
     "metadata": {},
     "source": [
      "##Functions##"
     ]
    },
    {
     "cell_type": "markdown",
     "metadata": {},
     "source": [
      "Exercise 3\n",
      "\n",
      "Consider the function\n",
      "\n",
      "    f(x)= x2+2x+3       ifx<0\n",
      "          x+3           if0\u2264x<2\n",
      "          x2+4x\u22127       if2\u2264x\n",
      "\n",
      "\n",
      "Write a function tmpFn which takes a numeric vector xVal as input, and returns a vector containing the values of the function f above evaluated at the numbers x contained in the vector xVal."
     ]
    },
    {
     "cell_type": "code",
     "collapsed": false,
     "input": [
      "%load_ext rmagic"
     ],
     "language": "python",
     "metadata": {},
     "outputs": [],
     "prompt_number": 2
    },
    {
     "cell_type": "code",
     "collapsed": false,
     "input": [
      "%%R\n",
      "\n",
      "tmpFn = function(x){\n",
      "    return(ifelse(x < 0, x^2 + 2*x +3, ifelse(x < 2, x + 3, x^2 + 4*x - 7)))\n",
      "}\n",
      "x = rnorm(20, mean=0, sd=10)\n",
      "print(tmpFn(x))"
     ],
     "language": "python",
     "metadata": {},
     "outputs": [
      {
       "metadata": {},
       "output_type": "display_data",
       "text": [
        " [1]   5.286886  62.004197  14.292656   6.607498 227.256929 478.120647\n",
        " [7]   6.372806 423.830872 222.367410 214.808593 124.973607 124.905353\n",
        "[13] 402.441530  12.112735  48.303141 207.684099  34.950289 259.733125\n",
        "[19] 170.996940 329.695983\n"
       ]
      }
     ],
     "prompt_number": 10
    },
    {
     "cell_type": "code",
     "collapsed": false,
     "input": [
      "%%R\n",
      "\n",
      "quadrant1 = function(theta)\n",
      "{\n",
      "    rescaled.theta = theta%%360                #rescale the angle between 0 and 360 using modulo\n",
      "    quad           = 1 + rescaled.theta%/%90   #find the quadrant using integer division:\n",
      "                                               #e.g. 10%/%90 = 0; 95%/%90 = 1 \n",
      "    return(quad)\n",
      "    \n",
      "}\n",
      "\n",
      "thetas = c(10, 95, 200, 300)\n",
      "print(quadrant1(thetas + 360))"
     ],
     "language": "python",
     "metadata": {},
     "outputs": [
      {
       "metadata": {},
       "output_type": "display_data",
       "text": [
        "[1] 1 2 3 4\n"
       ]
      }
     ],
     "prompt_number": 12
    },
    {
     "cell_type": "markdown",
     "metadata": {},
     "source": [
      "##Classes"
     ]
    },
    {
     "cell_type": "markdown",
     "metadata": {},
     "source": [
      "You should write:\n",
      "\n",
      "* the class contructor that creates the class instances\n",
      "\n",
      "* a method print.employee that displays the employee information nicely formated in a data table (use the function sprintf for that).\n",
      "\n",
      "* a method earnings.employee that computes the employee monthly salary\n",
      "\n",
      "* a generic function earnings corresponding to the previous method"
     ]
    },
    {
     "cell_type": "code",
     "collapsed": false,
     "input": [
      "%%R\n",
      "\n",
      "employee = function(name, nhours, ndays, hourlywage){\n",
      "    obj = list(name=name,\n",
      "               nhours=nhours,\n",
      "               ndays=ndays,\n",
      "               hourlywage=hourlywage)\n",
      "    class(obj) = 'employee'\n",
      "    return(obj)\n",
      "    \n",
      "}\n"
     ],
     "language": "python",
     "metadata": {},
     "outputs": [],
     "prompt_number": 18
    },
    {
     "cell_type": "code",
     "collapsed": false,
     "input": [
      "%%R\n",
      "\n",
      "display.data = function(employee){\n",
      "    printed = sprintf(\"%-10s\\t%-10d\\t%-10d\\t%-10.2f\", \n",
      "                      employee[['name']], employee[['nhours']],\n",
      "                      employee[['ndays']], employee[['hourlywage']])\n",
      "    cat('\\n', printed)\n",
      "    }\n",
      "display.header = function(){\n",
      "    printed = sprintf('%-10s\\t%-10s\\t%-10s\\t%-10s',\n",
      "                      'Name', 'Hours per Day', 'Days per Week', 'Hourly Wage')\n",
      "    cat('\\n', printed)\n",
      "    }\n",
      "print.employee = function(employee){\n",
      "    display.header(employee)\n",
      "    display.data(employee)\n",
      "    }\n"
     ],
     "language": "python",
     "metadata": {},
     "outputs": [],
     "prompt_number": 77
    },
    {
     "cell_type": "code",
     "collapsed": false,
     "input": [
      "%%R\n",
      "\n",
      "bob = employee('Bob', 9, 5, 20)\n",
      "print(bob)"
     ],
     "language": "python",
     "metadata": {},
     "outputs": [
      {
       "metadata": {},
       "output_type": "display_data",
       "text": [
        "\n",
        " Name      \tHours per Day\tDays per Week\tHourly Wage\n",
        " Bob       \t9         \t5         \t20.00     "
       ]
      }
     ],
     "prompt_number": 29
    },
    {
     "cell_type": "code",
     "collapsed": false,
     "input": [
      "%%R\n",
      "\n",
      "print(bob$nhours*bob$ndays)"
     ],
     "language": "python",
     "metadata": {},
     "outputs": [
      {
       "metadata": {},
       "output_type": "display_data",
       "text": [
        "[1] 45\n"
       ]
      }
     ],
     "prompt_number": 31
    },
    {
     "cell_type": "code",
     "collapsed": false,
     "input": [
      "%%R\n",
      "\n",
      "earnings.employee = function(employee){\n",
      "    salary = employee$nhours*employee$ndays*employee$hourlywage\n",
      "    return(salary)\n",
      "    }\n",
      "earnings = function(object){\n",
      "    UseMethod('earnings', object)\n",
      "    }\n"
     ],
     "language": "python",
     "metadata": {},
     "outputs": [],
     "prompt_number": 32
    },
    {
     "cell_type": "code",
     "collapsed": false,
     "input": [
      "%%R\n",
      "print(earnings(bob))"
     ],
     "language": "python",
     "metadata": {},
     "outputs": [
      {
       "metadata": {},
       "output_type": "display_data",
       "text": [
        "[1] 900\n"
       ]
      }
     ],
     "prompt_number": 33
    },
    {
     "cell_type": "markdown",
     "metadata": {},
     "source": [
      "\n",
      "Write a class company that has the following attribues:\n",
      "\n",
      "    name = company name\n",
      "    roster = a list of the company's employees\n",
      "    benefits = the total amount of money that the company earned\n",
      "\n",
      "Write the class constructor allowing you to create an object in the following way, given that the variable employees contains a list of employees:\n",
      "\n",
      "CISCO = company(name='CISCO', roster=employees, benefits=500000)"
     ]
    },
    {
     "cell_type": "code",
     "collapsed": false,
     "input": [
      "%%R\n",
      "\n",
      "company = function(name, roster, benefits){\n",
      "    obj = list(name=name, roster=roster, benefits=as.numeric(benefits))\n",
      "    class(obj) = 'company'\n",
      "    return(obj)\n",
      "}\n",
      "\n"
     ],
     "language": "python",
     "metadata": {},
     "outputs": [],
     "prompt_number": 73
    },
    {
     "cell_type": "code",
     "collapsed": false,
     "input": [
      "%%R\n",
      "\n",
      "employees = list(employee(name='Paul Durant', nhour=2, ndays=20, hourlywage=10),\n",
      "              employee(name='Martin Crue', nhour=2, ndays=10, hourlywage=13),\n",
      "              employee(name='Eleonore Di', nhour=2, ndays=20, hourlywage=20),\n",
      "              employee(name='Fred ElCaba', nhour=2, ndays=2, hourlywage=60),\n",
      "              employee(name='Raul Fiente', nhour=2, ndays=2, hourlywage=16),\n",
      "              employee(name='Luc  Cramer', nhour=2, ndays=2, hourlywage=13),\n",
      "              employee(name='Letitia Flo', nhour=2, ndays=30, hourlywage=29),\n",
      "              employee(name='Tro Bicabic', nhour=2, ndays=30, hourlywage=10)\n",
      "              )\n",
      "\n",
      "CISCO = company(name='CISCO', roster=employees, benefits='8000000')\n",
      "\n",
      "print((CISCO$roster))"
     ],
     "language": "python",
     "metadata": {},
     "outputs": [
      {
       "metadata": {},
       "output_type": "display_data",
       "text": [
        "[[1]]\n",
        "\n",
        " Name      \tHours per Day\tDays per Week\tHourly Wage\n",
        " Paul Durant\t2         \t20        \t10.00     \n",
        "[[2]]\n",
        "\n",
        " Name      \tHours per Day\tDays per Week\tHourly Wage\n",
        " Martin Crue\t2         \t10        \t13.00     \n",
        "[[3]]\n",
        "\n",
        " Name      \tHours per Day\tDays per Week\tHourly Wage\n",
        " Eleonore Di\t2         \t20        \t20.00     \n",
        "[[4]]\n",
        "\n",
        " Name      \tHours per Day\tDays per Week\tHourly Wage\n",
        " Fred ElCaba\t2         \t2         \t60.00     \n",
        "[[5]]\n",
        "\n",
        " Name      \tHours per Day\tDays per Week\tHourly Wage\n",
        " Raul Fiente\t2         \t2         \t16.00     \n",
        "[[6]]\n",
        "\n",
        " Name      \tHours per Day\tDays per Week\tHourly Wage\n",
        " Luc  Cramer\t2         \t2         \t13.00     \n",
        "[[7]]\n",
        "\n",
        " Name      \tHours per Day\tDays per Week\tHourly Wage\n",
        " Letitia Flo\t2         \t30        \t29.00     \n",
        "[[8]]\n",
        "\n",
        " Name      \tHours per Day\tDays per Week\tHourly Wage\n",
        " Tro Bicabic\t2         \t30        \t10.00     \n"
       ]
      }
     ],
     "prompt_number": 74
    },
    {
     "cell_type": "code",
     "collapsed": false,
     "input": [
      "%%R\n",
      "\n",
      "print.company = function(company){\n",
      "    df = t(data.frame(sapply(company$roster, function(x) return(c(Hours=x$nhours,\n",
      "                                                Days=x$ndays,\n",
      "                                                Wage=x$hourlywage)))))\n",
      "    rownames(df) = sapply(company$roster, function(x) return(c(x$name)))\n",
      "    print(df)\n",
      "    }\n",
      "                          "
     ],
     "language": "python",
     "metadata": {},
     "outputs": [],
     "prompt_number": 80
    },
    {
     "cell_type": "code",
     "collapsed": false,
     "input": [
      "%%R\n",
      "print(CISCO)"
     ],
     "language": "python",
     "metadata": {},
     "outputs": [
      {
       "metadata": {},
       "output_type": "display_data",
       "text": [
        "            Hours Days Wage\n",
        "Paul Durant     2   20   10\n",
        "Martin Crue     2   10   13\n",
        "Eleonore Di     2   20   20\n",
        "Fred ElCaba     2    2   60\n",
        "Raul Fiente     2    2   16\n",
        "Luc  Cramer     2    2   13\n",
        "Letitia Flo     2   30   29\n",
        "Tro Bicabic     2   30   10\n"
       ]
      }
     ],
     "prompt_number": 81
    },
    {
     "cell_type": "code",
     "collapsed": false,
     "input": [
      "%%R\n",
      "\n",
      "#alt 2\n",
      "\n",
      "print.company = function(company){\n",
      "    display.header()\n",
      "    lapply(company$roster, display.data)\n",
      "    }\n",
      "    "
     ],
     "language": "python",
     "metadata": {},
     "outputs": [],
     "prompt_number": 82
    },
    {
     "cell_type": "code",
     "collapsed": false,
     "input": [
      "%%R\n",
      "\n",
      "print(CISCO)"
     ],
     "language": "python",
     "metadata": {},
     "outputs": [
      {
       "metadata": {},
       "output_type": "display_data",
       "text": [
        "\n",
        " Name      \tHours per Day\tDays per Week\tHourly Wage\n",
        " Paul Durant\t2         \t20        \t10.00     \n",
        " Martin Crue\t2         \t10        \t13.00     \n",
        " Eleonore Di\t2         \t20        \t20.00     \n",
        " Fred ElCaba\t2         \t2         \t60.00     \n",
        " Raul Fiente\t2         \t2         \t16.00     \n",
        " Luc  Cramer\t2         \t2         \t13.00     \n",
        " Letitia Flo\t2         \t30        \t29.00     \n",
        " Tro Bicabic\t2         \t30        \t10.00     "
       ]
      }
     ],
     "prompt_number": 79
    },
    {
     "cell_type": "code",
     "collapsed": false,
     "input": [
      "%%R\n",
      "\n",
      "earnings.company = function(company){\n",
      "    earnings = company$benefits\n",
      "    costs = sum(sapply(company$roster, earnings.employee))\n",
      "    return(earnings-costs)\n",
      "    }\n",
      "\n",
      "print(earnings.company(CISCO))"
     ],
     "language": "python",
     "metadata": {},
     "outputs": [
      {
       "metadata": {},
       "output_type": "display_data",
       "text": [
        "[1] 7995844\n"
       ]
      }
     ],
     "prompt_number": 83
    }
   ],
   "metadata": {}
  }
 ]
}