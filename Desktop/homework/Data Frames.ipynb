{
 "metadata": {
  "name": ""
 },
 "nbformat": 3,
 "nbformat_minor": 0,
 "worksheets": [
  {
   "cells": [
    {
     "cell_type": "code",
     "collapsed": false,
     "input": [
      "%load_ext rmagic"
     ],
     "language": "python",
     "metadata": {},
     "outputs": [],
     "prompt_number": 1
    },
    {
     "cell_type": "markdown",
     "metadata": {},
     "source": [
      "###Data Frames###"
     ]
    },
    {
     "cell_type": "markdown",
     "metadata": {},
     "source": [
      "***Constructing and manipulating data frames***"
     ]
    },
    {
     "cell_type": "markdown",
     "metadata": {},
     "source": [
      "The central class in R is the class \n",
      "\n",
      "    data.frame\n",
      "\n",
      "that represent data tables in a similar way as Pandas DataFrames.\n",
      "\n",
      "As we saw before, **classes in R are just enhanced list**, with\n",
      "\n",
      "   * a **class name** stored in the list 'class string', which is set by using  class(x) function\n",
      "   * a class constructur, which is a regular function used to construct class instances\n",
      "   * a collection of methods and generic functions acting on the class instances\n",
      "   \n",
      "The **underlying list** of a data frame contains the vectors representing th data tables columns (i.e. the statistical variables)\n",
      "\n",
      "One passes these vectors to the data frame constructur to populate its underlying list:"
     ]
    },
    {
     "cell_type": "code",
     "collapsed": false,
     "input": [
      "%%R\n",
      "\n",
      "X = c(a=1, b=2, c=3)\n",
      "Y = c(a=3, b=9, c=1)\n",
      "Z = c(a='u', b='v', c='w')\n",
      "\n",
      "df1 = data.frame(X, Y, Z)\n",
      "print(df1)"
     ],
     "language": "python",
     "metadata": {},
     "outputs": [
      {
       "metadata": {},
       "output_type": "display_data",
       "text": [
        "  X Y Z\n",
        "a 1 3 u\n",
        "b 2 9 v\n",
        "c 3 1 w\n"
       ]
      }
     ],
     "prompt_number": 2
    },
    {
     "cell_type": "markdown",
     "metadata": {},
     "source": [
      "One can always transpose the data frame using the transpose generic function t(x):\n"
     ]
    },
    {
     "cell_type": "code",
     "collapsed": false,
     "input": [
      "%%R\n",
      "\n",
      "print(t(df1))"
     ],
     "language": "python",
     "metadata": {},
     "outputs": [
      {
       "metadata": {},
       "output_type": "display_data",
       "text": [
        "  a   b   c  \n",
        "X \"1\" \"2\" \"3\"\n",
        "Y \"3\" \"9\" \"1\"\n",
        "Z \"u\" \"v\" \"w\"\n"
       ]
      }
     ],
     "prompt_number": 3
    },
    {
     "cell_type": "markdown",
     "metadata": {},
     "source": [
      "**Remark**: In a data frame, the values in a given column should all be of the same type. After transposition, some column values may end up beeing of different types. In this case, all the column values will be converted (casted, or coerced) to a matching type (in the example above: character vectors, since it is possible to cast a number into a string ('1' instead of 1), but the opposite operation does not make sense."
     ]
    },
    {
     "cell_type": "markdown",
     "metadata": {},
     "source": [
      "***Adding new observations to existing df***"
     ]
    },
    {
     "cell_type": "markdown",
     "metadata": {},
     "source": [
      "Suppose that we have two samples of the same population for the same variables. For intance, the <code>df1</code> above and the following:"
     ]
    },
    {
     "cell_type": "code",
     "collapsed": false,
     "input": [
      "%%R\n",
      "\n",
      "X = c(d=12, e=12, f=63)\n",
      "Y = c(d=33, e=96, f=0)\n",
      "Z = c(d='k', e='l', f='m')\n",
      "\n",
      "df2 = data.frame(X, Y, Z)\n",
      "\n",
      "print(df2); print(df1)"
     ],
     "language": "python",
     "metadata": {},
     "outputs": [
      {
       "metadata": {},
       "output_type": "display_data",
       "text": [
        "   X  Y Z\n",
        "d 12 33 k\n",
        "e 12 96 l\n",
        "f 63  0 m\n",
        "  X Y Z\n",
        "a 1 3 u\n",
        "b 2 9 v\n",
        "c 3 1 w\n"
       ]
      }
     ],
     "prompt_number": 5
    },
    {
     "cell_type": "code",
     "collapsed": false,
     "input": [
      "%%R\n",
      "\n",
      "df3 = rbind(df1, df2)\n",
      "print(df3)"
     ],
     "language": "python",
     "metadata": {},
     "outputs": [
      {
       "metadata": {},
       "output_type": "display_data",
       "text": [
        "   X  Y Z\n",
        "a  1  3 u\n",
        "b  2  9 v\n",
        "c  3  1 w\n",
        "d 12 33 k\n",
        "e 12 96 l\n",
        "f 63  0 m\n"
       ]
      }
     ],
     "prompt_number": 6
    },
    {
     "cell_type": "markdown",
     "metadata": {},
     "source": [
      "***Adding new variables to an existing data frame***"
     ]
    },
    {
     "cell_type": "markdown",
     "metadata": {},
     "source": [
      "suppose that we have two data frames, representing the same sample but containing values for  **different population variables**. For instance the data frame df3 and the following one:"
     ]
    },
    {
     "cell_type": "code",
     "collapsed": false,
     "input": [
      "%%R\n",
      "\n",
      "df4 = data.frame(sex=c(a='M', b='F', c='M', d='F', e='M', f='F'))\n",
      "print(df4)\n"
     ],
     "language": "python",
     "metadata": {},
     "outputs": [
      {
       "metadata": {},
       "output_type": "display_data",
       "text": [
        "  sex\n",
        "a   M\n",
        "b   F\n",
        "c   M\n",
        "d   F\n",
        "e   M\n",
        "f   F\n"
       ]
      }
     ],
     "prompt_number": 7
    },
    {
     "cell_type": "markdown",
     "metadata": {},
     "source": [
      "We add additional variables to a data frame by using the generic column bind function\n",
      "\n",
      "    cbind(df1, df2)\n",
      "    \n"
     ]
    },
    {
     "cell_type": "code",
     "collapsed": false,
     "input": [
      "%%R\n",
      "\n",
      "df5 = cbind(df3, df4)\n",
      "print(df5)\n",
      "\n"
     ],
     "language": "python",
     "metadata": {},
     "outputs": [
      {
       "metadata": {},
       "output_type": "display_data",
       "text": [
        "   X  Y Z sex\n",
        "a  1  3 u   M\n",
        "b  2  9 v   F\n",
        "c  3  1 w   M\n",
        "d 12 33 k   F\n",
        "e 12 96 l   M\n",
        "f 63  0 m   F\n"
       ]
      }
     ],
     "prompt_number": 8
    },
    {
     "cell_type": "markdown",
     "metadata": {},
     "source": [
      "must do the above to create a new data frame, else one can use:"
     ]
    },
    {
     "cell_type": "code",
     "collapsed": false,
     "input": [
      "%%R\n",
      "\n",
      "df3$sex = c(a='M', b='F', c='M', d='F', e='M', f='F')\n",
      "print(df3)"
     ],
     "language": "python",
     "metadata": {},
     "outputs": [
      {
       "metadata": {},
       "output_type": "display_data",
       "text": [
        "   X  Y Z sex\n",
        "a  1  3 u   M\n",
        "b  2  9 v   F\n",
        "c  3  1 w   M\n",
        "d 12 33 k   F\n",
        "e 12 96 l   M\n",
        "f 63  0 m   F\n"
       ]
      }
     ],
     "prompt_number": 10
    },
    {
     "cell_type": "markdown",
     "metadata": {},
     "source": [
      "**Data Frame instanciated from vectors**"
     ]
    },
    {
     "cell_type": "code",
     "collapsed": false,
     "input": [
      "%%R\n",
      "\n",
      "m1 = c(Bob=67, Alice=88, Agnes=99)\n",
      "m2 = c(Bob=82, Alice=91, Agnes=100)\n",
      "f = c(Bob=3, Alice=38, Agnes=97)\n",
      "\n",
      "grades = data.frame(m1, m2, f)"
     ],
     "language": "python",
     "metadata": {},
     "outputs": [],
     "prompt_number": 11
    },
    {
     "cell_type": "markdown",
     "metadata": {},
     "source": [
      "R data frames have a method print.data.frame so we can invoke the **generic function** print on the data frame instances:"
     ]
    },
    {
     "cell_type": "code",
     "collapsed": false,
     "input": [
      "%%R\n",
      "\n",
      "print(grades)"
     ],
     "language": "python",
     "metadata": {},
     "outputs": [
      {
       "metadata": {},
       "output_type": "display_data",
       "text": [
        "      m1  m2  f\n",
        "Bob   67  82  3\n",
        "Alice 88  91 38\n",
        "Agnes 99 100 97\n"
       ]
      }
     ],
     "prompt_number": 12
    },
    {
     "cell_type": "raw",
     "metadata": {},
     "source": [
      "If we change the class of the data frame to lists, another generic function will be evoked."
     ]
    },
    {
     "cell_type": "code",
     "collapsed": false,
     "input": [
      "%%R\n",
      "\n",
      "class(grades) = 'list'\n",
      "print(grades)"
     ],
     "language": "python",
     "metadata": {},
     "outputs": [
      {
       "metadata": {},
       "output_type": "display_data",
       "text": [
        "$m1\n",
        "[1] 67 88 99\n",
        "\n",
        "$m2\n",
        "[1]  82  91 100\n",
        "\n",
        "$f\n",
        "[1]  3 38 97\n",
        "\n",
        "attr(,\"row.names\")\n",
        "[1] \"Bob\"   \"Alice\" \"Agnes\"\n"
       ]
      }
     ],
     "prompt_number": 13
    },
    {
     "cell_type": "code",
     "collapsed": false,
     "input": [
      "%%R \n",
      "\n",
      "class(grades) = 'data.frame'"
     ],
     "language": "python",
     "metadata": {},
     "outputs": [],
     "prompt_number": 14
    },
    {
     "cell_type": "markdown",
     "metadata": {},
     "source": [
      "**Accessing and computing with columns**"
     ]
    },
    {
     "cell_type": "markdown",
     "metadata": {},
     "source": [
      "Accessing data frame columns amounts to accessing the elements of the underlying list, which there are two syntaxes:\n",
      "\n",
      "   * the dollar sign $\n",
      "   * the bracket syntax [ ]\n",
      "   \n"
     ]
    },
    {
     "cell_type": "code",
     "collapsed": false,
     "input": [
      "%%R\n",
      "\n",
      "print(grades$f)\n",
      "print(grades[['f']])\n",
      "\n",
      "# or a specific column in the data frame\n",
      "cat('----------', '\\n')\n",
      "print(grades['f'])"
     ],
     "language": "python",
     "metadata": {},
     "outputs": [
      {
       "metadata": {},
       "output_type": "display_data",
       "text": [
        "[1]  3 38 97\n",
        "[1]  3 38 97\n",
        "---------- \n",
        "       f\n",
        "Bob    3\n",
        "Alice 38\n",
        "Agnes 97\n"
       ]
      }
     ],
     "prompt_number": 17
    },
    {
     "cell_type": "markdown",
     "metadata": {},
     "source": [
      "**Accessing rows and single variable values**"
     ]
    },
    {
     "cell_type": "markdown",
     "metadata": {},
     "source": [
      "R has the similar double entry bracket syntax as Numpy arrays.\n",
      "\n",
      "     data[i, j]\n",
      " \n",
      "where i is the row number and j the column number"
     ]
    },
    {
     "cell_type": "code",
     "collapsed": false,
     "input": [
      "%%R\n",
      "\n",
      "print(grades[1,2]) #Bobs result on m2"
     ],
     "language": "python",
     "metadata": {},
     "outputs": [
      {
       "metadata": {},
       "output_type": "display_data",
       "text": [
        "[1] 82\n"
       ]
      }
     ],
     "prompt_number": 18
    },
    {
     "cell_type": "code",
     "collapsed": false,
     "input": [
      "%%R\n",
      "\n",
      "class(grades) = 'data.frame'\n",
      "\n",
      "a = grades[1, ]\n",
      "\n",
      "print(class(a)); print(a)"
     ],
     "language": "python",
     "metadata": {},
     "outputs": [
      {
       "metadata": {},
       "output_type": "display_data",
       "text": [
        "[1] \"data.frame\"\n",
        "    m1 m2 f\n",
        "Bob 67 82 3\n"
       ]
      }
     ],
     "prompt_number": 19
    },
    {
     "cell_type": "code",
     "collapsed": false,
     "input": [
      "%%R\n",
      "\n",
      "a = grades[, 2]\n",
      "print(class(a)); print(a)"
     ],
     "language": "python",
     "metadata": {},
     "outputs": [
      {
       "metadata": {},
       "output_type": "display_data",
       "text": [
        "[1] \"numeric\"\n",
        "[1]  82  91 100\n"
       ]
      }
     ],
     "prompt_number": 20
    },
    {
     "cell_type": "markdown",
     "metadata": {},
     "source": [
      "**Note**: the class doesn't change for rows as it's still a data.frame but the output of grades[, 2] is a numerical vector."
     ]
    },
    {
     "cell_type": "markdown",
     "metadata": {},
     "source": [
      "##Loading data into a data frame##"
     ]
    },
    {
     "cell_type": "markdown",
     "metadata": {},
     "source": [
      "As for Pandas data frames, we have functions that allow us to load data tables at a url or on the local file system.\n",
      "\n",
      "The functions\n",
      "\n",
      "    read.table(address, row.names, col.names, header, sep)\n",
      "    \n",
      "    read.csv(address, row.names, col.names, header)"
     ]
    },
    {
     "cell_type": "markdown",
     "metadata": {},
     "source": [
      "The difference between these two functions is that\n",
      "\n",
      "   * read.table expects a blanck character (i.e. spaces, tabs, etc.) as separator by default, although the separator can be specified by setting the argument sep\n",
      "   * read.csv expects a comma separated value (csv) data table\n",
      "   \n",
      "Have a look (??read.table) for a description of all the possible arguments that can be passed to these functions, as well as for their default values."
     ]
    },
    {
     "cell_type": "markdown",
     "metadata": {},
     "source": [
      "##Examples: loading tabular data##"
     ]
    },
    {
     "cell_type": "markdown",
     "metadata": {},
     "source": [
      "**CSV**\n"
     ]
    },
    {
     "cell_type": "code",
     "collapsed": false,
     "input": [
      "csv_url = 'http://www.stat.berkeley.edu/classes/s133/data/world.txt'\n",
      "!curl $csv_url 2>/dev/null | head -4"
     ],
     "language": "python",
     "metadata": {},
     "outputs": [
      {
       "output_type": "stream",
       "stream": "stdout",
       "text": [
        "country,gdp,income,literacy,military\r\n",
        "Albania,4500,4937,98.7,56500000\r\n",
        "Algeria,5900,6799,69.8,2.48e+09\r\n",
        "Angola,1900,2457,66.8,183580000\r\n"
       ]
      }
     ],
     "prompt_number": 21
    },
    {
     "cell_type": "code",
     "collapsed": false,
     "input": [
      "%%R -i csv_url\n",
      "countries = read.csv(csv_url, header=T, row.names=1)\n",
      "print(head(countries))"
     ],
     "language": "python",
     "metadata": {},
     "outputs": [
      {
       "metadata": {},
       "output_type": "display_data",
       "text": [
        "            gdp income literacy   military\n",
        "Albania    4500   4937     98.7 5.6500e+07\n",
        "Algeria    5900   6799     69.8 2.4800e+09\n",
        "Angola     1900   2457     66.8 1.8358e+08\n",
        "Argentina 11200  12468     97.2 4.3000e+09\n",
        "Armenia    3900   3806     99.4 1.3500e+08\n",
        "Australia 28900  29893     99.9 1.6650e+10\n"
       ]
      }
     ],
     "prompt_number": 25
    },
    {
     "cell_type": "markdown",
     "metadata": {},
     "source": [
      "**Note** the row.names=1 that tells read.csv to take column one as indicies.\n"
     ]
    },
    {
     "cell_type": "markdown",
     "metadata": {},
     "source": [
      "**Custom separator**"
     ]
    },
    {
     "cell_type": "code",
     "collapsed": false,
     "input": [
      "custom_url = 'http://www.stat.berkeley.edu/classes/s133/data/movies.txt'\n",
      "!curl $custom_url 2>/dev/null | head -4"
     ],
     "language": "python",
     "metadata": {},
     "outputs": [
      {
       "output_type": "stream",
       "stream": "stdout",
       "text": [
        "rank|name|box|date\r\n",
        "1|Avatar|$759.563|December 18, 2009\r\n",
        "2|Titanic|$600.788|December 19, 1997\r\n",
        "3|The Dark Knight|$533.184|July 18, 2008\r\n"
       ]
      }
     ],
     "prompt_number": 26
    },
    {
     "cell_type": "code",
     "collapsed": false,
     "input": [
      "%%R -i custom_url\n",
      "\n",
      "movies = read.table(custom_url, header=T, sep=\"|\")"
     ],
     "language": "python",
     "metadata": {},
     "outputs": [],
     "prompt_number": 27
    },
    {
     "cell_type": "code",
     "collapsed": false,
     "input": [
      "%%R\n",
      "\n",
      "print(head(movies))"
     ],
     "language": "python",
     "metadata": {},
     "outputs": [
      {
       "metadata": {},
       "output_type": "display_data",
       "text": [
        "  rank                               name      box              date\n",
        "1    1                             Avatar $759.563 December 18, 2009\n",
        "2    2                            Titanic $600.788 December 19, 1997\n",
        "3    3                    The Dark Knight $533.184     July 18, 2008\n",
        "4    4 Star Wars: Episode IV - A New Hope $460.998      May 25, 1977\n",
        "5    5                            Shrek 2 $437.212      May 19, 2004\n",
        "6    6         E.T. the Extra-Terrestrial $434.975     June 11, 1982\n"
       ]
      }
     ],
     "prompt_number": 28
    },
    {
     "cell_type": "markdown",
     "metadata": {},
     "source": [
      "**Blank-space separated tables**"
     ]
    },
    {
     "cell_type": "code",
     "collapsed": false,
     "input": [
      "table_url = 'http://www.stat.berkeley.edu/classes/s133/data/pop.txt'\n",
      "!curl $table_url 2>/dev/null | head -4"
     ],
     "language": "python",
     "metadata": {},
     "outputs": [
      {
       "output_type": "stream",
       "stream": "stdout",
       "text": [
        "State                   pop2004    pop2003\r\n",
        "Alabama                 4530182    4500752\r\n",
        "Alaska                   655435     648818\r\n",
        "Arizona                 5743834    5580811\r\n"
       ]
      }
     ],
     "prompt_number": 29
    },
    {
     "cell_type": "code",
     "collapsed": false,
     "input": [
      "%%R -i table_url\n",
      "\n",
      "states = read.table(table_url, header=T, sep=\"\", row.names=1)"
     ],
     "language": "python",
     "metadata": {},
     "outputs": [],
     "prompt_number": 30
    },
    {
     "cell_type": "code",
     "collapsed": false,
     "input": [
      "%%R \n",
      "\n",
      "print(head(states))"
     ],
     "language": "python",
     "metadata": {},
     "outputs": [
      {
       "metadata": {},
       "output_type": "display_data",
       "text": [
        "            pop2004  pop2003\n",
        "Alabama     4530182  4500752\n",
        "Alaska       655435   648818\n",
        "Arizona     5743834  5580811\n",
        "Arkansas    2752629  2725714\n",
        "California 35893799 35484453\n",
        "Colorado    4601403  4550688\n"
       ]
      }
     ],
     "prompt_number": 31
    },
    {
     "cell_type": "markdown",
     "metadata": {},
     "source": [
      "##Basic statistical operations##"
     ]
    },
    {
     "cell_type": "markdown",
     "metadata": {},
     "source": [
      "**Summary statistics**\n",
      "\n",
      "One gets summary statistics using the generic function:\n",
      "\n",
      "    summary(data)\n",
      "    \n",
      "The arguments can be the whole data frame or numerical vectors, such as a data frame column\n"
     ]
    },
    {
     "cell_type": "code",
     "collapsed": false,
     "input": [
      "%%R\n",
      "\n",
      "stats_all = summary(states)\n",
      "\n",
      "summary_2004 = summary(states$pop2004)"
     ],
     "language": "python",
     "metadata": {},
     "outputs": [],
     "prompt_number": 33
    },
    {
     "cell_type": "code",
     "collapsed": false,
     "input": [
      "%%R\n",
      "\n",
      "print(stats_all)\n",
      "cat('-------------', '\\n')\n",
      "print(summary_2004)"
     ],
     "language": "python",
     "metadata": {},
     "outputs": [
      {
       "metadata": {},
       "output_type": "display_data",
       "text": [
        "    pop2004            pop2003        \n",
        " Min.   :  506529   Min.   :  501242  \n",
        " 1st Qu.: 2375472   1st Qu.: 2323889  \n",
        " Median : 4522976   Median : 4498543  \n",
        " Mean   : 6123315   Mean   : 6060413  \n",
        " 3rd Qu.: 6282303   3rd Qu.: 6255088  \n",
        " Max.   :35893799   Max.   :35484453  \n",
        "------------- \n",
        "    Min.  1st Qu.   Median     Mean  3rd Qu.     Max. \n",
        "  506500  2375000  4523000  6123000  6282000 35890000 \n"
       ]
      }
     ],
     "prompt_number": 36
    },
    {
     "cell_type": "markdown",
     "metadata": {},
     "source": [
      "**R basic statistical functions**\n",
      "R has a number of useful numerical built-in functions.\n",
      "\n",
      "***Since the basic type representing numbers in R is vectorized, all the numeric functions take numeric vectors as input.***\n",
      "\n",
      "Therefore, all these built-in functions can take data frame columns representing quantitative variables as their input.\n",
      "\n",
      "Explore by yourself the following list of functions:\n",
      "\n",
      "**Statistics**:\n",
      "\n",
      "    mean(x, trim=0,na.rm=FALSE)     \n",
      "    sd(x)     \n",
      "    var(x) \n",
      "    mad(x) \n",
      "    median(x)     m\n",
      "    quantile(x, probs)     \n",
      "    range(x)     \n",
      "    sum(x)     \n",
      "    diff(x, lag=1)     \n",
      "    min(x)     \n",
      "    max(x)     \n",
      "    scale(x, center=TRUE, scale=TRUE) \n",
      "**Some other useful math functions**:\n",
      "\n",
      "    abs(x) \n",
      "    sqrt(x)     \n",
      "    ceiling(x)     \n",
      "    floor(x)     \n",
      "    trunc(x)     \n",
      "    round(x, digits=n)     \n",
      "    signif(x, digits=n)     \n",
      "    cos(x), sin(x), tan(x)\n",
      "    acos(x), cosh(x), acosh(x), etc.\n",
      "    log(x)     \n",
      "    log10(x)     \n",
      "    exp(x) "
     ]
    },
    {
     "cell_type": "code",
     "collapsed": false,
     "input": [],
     "language": "python",
     "metadata": {},
     "outputs": []
    }
   ],
   "metadata": {}
  }
 ]
}